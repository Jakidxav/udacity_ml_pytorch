{
 "cells": [
  {
   "cell_type": "markdown",
   "metadata": {},
   "source": [
    "### Introduction\n",
    "\n",
    "In this project, we will apply unsupervised learning techniques to identify segments of the population that form the core customer base for a mail-order sales company in Germany. These segments can then be used to direct marketing campaigns towards audiences that will have the highest expected rate of returns. The data that you will use has been provided by Bertelsmann Arvato Analytics, and was part of Udacity's Data Science Nanodegree program."
   ]
  },
  {
   "cell_type": "code",
   "execution_count": 1,
   "metadata": {},
   "outputs": [],
   "source": [
    "import numpy as np\n",
    "import pandas as pd\n",
    "\n",
    "import matplotlib.pyplot as plt\n",
    "%matplotlib inline\n",
    "import seaborn as sns\n",
    "\n",
    "import pickle"
   ]
  },
  {
   "cell_type": "markdown",
   "metadata": {},
   "source": [
    "### Loading data, EDA\n",
    "\n",
    "There are four files associated with this project (not including this one):\n",
    "\n",
    "- `Udacity_AZDIAS_Subset.csv`: Demographics data for the general population of Germany; 891211 persons (rows) x 85 features (columns).\n",
    "- `Udacity_CUSTOMERS_Subset.csv`: Demographics data for customers of a mail-order company; 191652 persons (rows) x 85 features (columns).\n",
    "- `Data_Dictionary.md`: Detailed information file about the features in the provided datasets.\n",
    "- `AZDIAS_Feature_Summary.csv`: Summary of feature attributes for demographics data; 85 features (rows) x 4 columns\n",
    "\n",
    "Each row of the demographics files represents a single person, but also includes information outside of individuals, including information about their household, building, and neighborhood. You will use this information to cluster the general population into groups with similar demographic properties. Then, you will see how the people in the customers dataset fit into those created clusters. The hope here is that certain clusters are over-represented in the customers data, as compared to the general population; those over-represented clusters will be assumed to be part of the core userbase. This information can then be used for further applications, such as targeting for a marketing campaign."
   ]
  },
  {
   "cell_type": "code",
   "execution_count": 2,
   "metadata": {},
   "outputs": [],
   "source": [
    "# Load in the general demographics data.\n",
    "azdias = pd.read_csv('Udacity_AZDIAS_Subset.csv', delimiter=';')\n",
    "\n",
    "# Load in the feature summary file.\n",
    "feat_info = pd.read_csv('AZDIAS_Feature_Summary.csv', delimiter=';')"
   ]
  },
  {
   "cell_type": "code",
   "execution_count": 3,
   "metadata": {},
   "outputs": [
    {
     "name": "stdout",
     "output_type": "stream",
     "text": [
      "(891221, 85)\n",
      "(85, 4)\n"
     ]
    }
   ],
   "source": [
    "# Check the structure of the data after it's loaded (e.g. print the number of\n",
    "# rows and columns, print the first few rows).\n",
    "print(azdias.shape)\n",
    "print(feat_info.shape)"
   ]
  },
  {
   "cell_type": "code",
   "execution_count": 4,
   "metadata": {},
   "outputs": [
    {
     "name": "stdout",
     "output_type": "stream",
     "text": [
      "   AGER_TYP  ALTERSKATEGORIE_GROB  ANREDE_KZ  CJT_GESAMTTYP  \\\n",
      "0        -1                     2          1            2.0   \n",
      "1        -1                     1          2            5.0   \n",
      "2        -1                     3          2            3.0   \n",
      "3         2                     4          2            2.0   \n",
      "4        -1                     3          1            5.0   \n",
      "\n",
      "   FINANZ_MINIMALIST  FINANZ_SPARER  FINANZ_VORSORGER  FINANZ_ANLEGER  \\\n",
      "0                  3              4                 3               5   \n",
      "1                  1              5                 2               5   \n",
      "2                  1              4                 1               2   \n",
      "3                  4              2                 5               2   \n",
      "4                  4              3                 4               1   \n",
      "\n",
      "   FINANZ_UNAUFFAELLIGER  FINANZ_HAUSBAUER  ...  PLZ8_ANTG1  PLZ8_ANTG2  \\\n",
      "0                      5                 3  ...         NaN         NaN   \n",
      "1                      4                 5  ...         2.0         3.0   \n",
      "2                      3                 5  ...         3.0         3.0   \n",
      "3                      1                 2  ...         2.0         2.0   \n",
      "4                      3                 2  ...         2.0         4.0   \n",
      "\n",
      "   PLZ8_ANTG3  PLZ8_ANTG4  PLZ8_BAUMAX  PLZ8_HHZ  PLZ8_GBZ  ARBEIT  \\\n",
      "0         NaN         NaN          NaN       NaN       NaN     NaN   \n",
      "1         2.0         1.0          1.0       5.0       4.0     3.0   \n",
      "2         1.0         0.0          1.0       4.0       4.0     3.0   \n",
      "3         2.0         0.0          1.0       3.0       4.0     2.0   \n",
      "4         2.0         1.0          2.0       3.0       3.0     4.0   \n",
      "\n",
      "   ORTSGR_KLS9  RELAT_AB  \n",
      "0          NaN       NaN  \n",
      "1          5.0       4.0  \n",
      "2          5.0       2.0  \n",
      "3          3.0       3.0  \n",
      "4          6.0       5.0  \n",
      "\n",
      "[5 rows x 85 columns]\n"
     ]
    }
   ],
   "source": [
    "print(azdias.head())"
   ]
  },
  {
   "cell_type": "code",
   "execution_count": 5,
   "metadata": {},
   "outputs": [
    {
     "name": "stdout",
     "output_type": "stream",
     "text": [
      "      attribute information_level     type missing_or_unknown\n",
      "80     PLZ8_HHZ    macrocell_plz8  ordinal               [-1]\n",
      "81     PLZ8_GBZ    macrocell_plz8  ordinal               [-1]\n",
      "82       ARBEIT         community  ordinal             [-1,9]\n",
      "83  ORTSGR_KLS9         community  ordinal             [-1,0]\n",
      "84     RELAT_AB         community  ordinal             [-1,9]\n"
     ]
    }
   ],
   "source": [
    "print(feat_info.tail())"
   ]
  },
  {
   "cell_type": "code",
   "execution_count": 6,
   "metadata": {},
   "outputs": [
    {
     "name": "stdout",
     "output_type": "stream",
     "text": [
      "<class 'pandas.core.frame.DataFrame'>\n",
      "RangeIndex: 891221 entries, 0 to 891220\n",
      "Data columns (total 85 columns):\n",
      "AGER_TYP                 891221 non-null int64\n",
      "ALTERSKATEGORIE_GROB     891221 non-null int64\n",
      "ANREDE_KZ                891221 non-null int64\n",
      "CJT_GESAMTTYP            886367 non-null float64\n",
      "FINANZ_MINIMALIST        891221 non-null int64\n",
      "FINANZ_SPARER            891221 non-null int64\n",
      "FINANZ_VORSORGER         891221 non-null int64\n",
      "FINANZ_ANLEGER           891221 non-null int64\n",
      "FINANZ_UNAUFFAELLIGER    891221 non-null int64\n",
      "FINANZ_HAUSBAUER         891221 non-null int64\n",
      "FINANZTYP                891221 non-null int64\n",
      "GEBURTSJAHR              891221 non-null int64\n",
      "GFK_URLAUBERTYP          886367 non-null float64\n",
      "GREEN_AVANTGARDE         891221 non-null int64\n",
      "HEALTH_TYP               891221 non-null int64\n",
      "LP_LEBENSPHASE_FEIN      886367 non-null float64\n",
      "LP_LEBENSPHASE_GROB      886367 non-null float64\n",
      "LP_FAMILIE_FEIN          886367 non-null float64\n",
      "LP_FAMILIE_GROB          886367 non-null float64\n",
      "LP_STATUS_FEIN           886367 non-null float64\n",
      "LP_STATUS_GROB           886367 non-null float64\n",
      "NATIONALITAET_KZ         891221 non-null int64\n",
      "PRAEGENDE_JUGENDJAHRE    891221 non-null int64\n",
      "RETOURTYP_BK_S           886367 non-null float64\n",
      "SEMIO_SOZ                891221 non-null int64\n",
      "SEMIO_FAM                891221 non-null int64\n",
      "SEMIO_REL                891221 non-null int64\n",
      "SEMIO_MAT                891221 non-null int64\n",
      "SEMIO_VERT               891221 non-null int64\n",
      "SEMIO_LUST               891221 non-null int64\n",
      "SEMIO_ERL                891221 non-null int64\n",
      "SEMIO_KULT               891221 non-null int64\n",
      "SEMIO_RAT                891221 non-null int64\n",
      "SEMIO_KRIT               891221 non-null int64\n",
      "SEMIO_DOM                891221 non-null int64\n",
      "SEMIO_KAEM               891221 non-null int64\n",
      "SEMIO_PFLICHT            891221 non-null int64\n",
      "SEMIO_TRADV              891221 non-null int64\n",
      "SHOPPER_TYP              891221 non-null int64\n",
      "SOHO_KZ                  817722 non-null float64\n",
      "TITEL_KZ                 817722 non-null float64\n",
      "VERS_TYP                 891221 non-null int64\n",
      "ZABEOTYP                 891221 non-null int64\n",
      "ALTER_HH                 817722 non-null float64\n",
      "ANZ_PERSONEN             817722 non-null float64\n",
      "ANZ_TITEL                817722 non-null float64\n",
      "HH_EINKOMMEN_SCORE       872873 non-null float64\n",
      "KK_KUNDENTYP             306609 non-null float64\n",
      "W_KEIT_KIND_HH           783619 non-null float64\n",
      "WOHNDAUER_2008           817722 non-null float64\n",
      "ANZ_HAUSHALTE_AKTIV      798073 non-null float64\n",
      "ANZ_HH_TITEL             794213 non-null float64\n",
      "GEBAEUDETYP              798073 non-null float64\n",
      "KONSUMNAEHE              817252 non-null float64\n",
      "MIN_GEBAEUDEJAHR         798073 non-null float64\n",
      "OST_WEST_KZ              798073 non-null object\n",
      "WOHNLAGE                 798073 non-null float64\n",
      "CAMEO_DEUG_2015          792242 non-null object\n",
      "CAMEO_DEU_2015           792242 non-null object\n",
      "CAMEO_INTL_2015          792242 non-null object\n",
      "KBA05_ANTG1              757897 non-null float64\n",
      "KBA05_ANTG2              757897 non-null float64\n",
      "KBA05_ANTG3              757897 non-null float64\n",
      "KBA05_ANTG4              757897 non-null float64\n",
      "KBA05_BAUMAX             757897 non-null float64\n",
      "KBA05_GBZ                757897 non-null float64\n",
      "BALLRAUM                 797481 non-null float64\n",
      "EWDICHTE                 797481 non-null float64\n",
      "INNENSTADT               797481 non-null float64\n",
      "GEBAEUDETYP_RASTER       798066 non-null float64\n",
      "KKK                      770025 non-null float64\n",
      "MOBI_REGIO               757897 non-null float64\n",
      "ONLINE_AFFINITAET        886367 non-null float64\n",
      "REGIOTYP                 770025 non-null float64\n",
      "KBA13_ANZAHL_PKW         785421 non-null float64\n",
      "PLZ8_ANTG1               774706 non-null float64\n",
      "PLZ8_ANTG2               774706 non-null float64\n",
      "PLZ8_ANTG3               774706 non-null float64\n",
      "PLZ8_ANTG4               774706 non-null float64\n",
      "PLZ8_BAUMAX              774706 non-null float64\n",
      "PLZ8_HHZ                 774706 non-null float64\n",
      "PLZ8_GBZ                 774706 non-null float64\n",
      "ARBEIT                   794005 non-null float64\n",
      "ORTSGR_KLS9              794005 non-null float64\n",
      "RELAT_AB                 794005 non-null float64\n",
      "dtypes: float64(49), int64(32), object(4)\n",
      "memory usage: 578.0+ MB\n",
      "None\n"
     ]
    }
   ],
   "source": [
    "print(azdias.info())"
   ]
  },
  {
   "cell_type": "code",
   "execution_count": 7,
   "metadata": {},
   "outputs": [
    {
     "name": "stdout",
     "output_type": "stream",
     "text": [
      "0    NaN\n",
      "1      8\n",
      "2      4\n",
      "3      2\n",
      "4      6\n",
      "Name: CAMEO_DEUG_2015, dtype: object \n",
      "\n",
      "0    NaN\n",
      "1     8A\n",
      "2     4C\n",
      "3     2A\n",
      "4     6B\n",
      "Name: CAMEO_DEU_2015, dtype: object \n",
      "\n",
      "0    NaN\n",
      "1     51\n",
      "2     24\n",
      "3     12\n",
      "4     43\n",
      "Name: CAMEO_INTL_2015, dtype: object \n",
      "\n"
     ]
    }
   ],
   "source": [
    "#inspect non-float or -int columns\n",
    "print(azdias['CAMEO_DEUG_2015'].head(), '\\n')\n",
    "print(azdias['CAMEO_DEU_2015'].head(), '\\n')\n",
    "print(azdias['CAMEO_INTL_2015'].head(), '\\n')"
   ]
  },
  {
   "cell_type": "markdown",
   "metadata": {},
   "source": [
    "### Preprocessing\n",
    "The fourth column of the feature attributes summary (loaded in above as `feat_info`) documents the codes from the data dictionary that indicate missing or unknown data. While the file encodes this as a list (e.g. `[-1,0]`), this will get read in as a string object. We need to do a little bit of parsing to make use of it to identify and clean the data. Then we can convert the missing data column by column to make sure that all of the missing values get encoded as NaN values."
   ]
  },
  {
   "cell_type": "code",
   "execution_count": 8,
   "metadata": {},
   "outputs": [
    {
     "data": {
      "text/html": [
       "<div>\n",
       "<style scoped>\n",
       "    .dataframe tbody tr th:only-of-type {\n",
       "        vertical-align: middle;\n",
       "    }\n",
       "\n",
       "    .dataframe tbody tr th {\n",
       "        vertical-align: top;\n",
       "    }\n",
       "\n",
       "    .dataframe thead th {\n",
       "        text-align: right;\n",
       "    }\n",
       "</style>\n",
       "<table border=\"1\" class=\"dataframe\">\n",
       "  <thead>\n",
       "    <tr style=\"text-align: right;\">\n",
       "      <th></th>\n",
       "      <th>attribute</th>\n",
       "      <th>information_level</th>\n",
       "      <th>type</th>\n",
       "      <th>missing_or_unknown</th>\n",
       "    </tr>\n",
       "  </thead>\n",
       "  <tbody>\n",
       "    <tr>\n",
       "      <th>0</th>\n",
       "      <td>AGER_TYP</td>\n",
       "      <td>person</td>\n",
       "      <td>categorical</td>\n",
       "      <td>[-1,0]</td>\n",
       "    </tr>\n",
       "    <tr>\n",
       "      <th>1</th>\n",
       "      <td>ALTERSKATEGORIE_GROB</td>\n",
       "      <td>person</td>\n",
       "      <td>ordinal</td>\n",
       "      <td>[-1,0,9]</td>\n",
       "    </tr>\n",
       "    <tr>\n",
       "      <th>2</th>\n",
       "      <td>ANREDE_KZ</td>\n",
       "      <td>person</td>\n",
       "      <td>categorical</td>\n",
       "      <td>[-1,0]</td>\n",
       "    </tr>\n",
       "    <tr>\n",
       "      <th>3</th>\n",
       "      <td>CJT_GESAMTTYP</td>\n",
       "      <td>person</td>\n",
       "      <td>categorical</td>\n",
       "      <td>[0]</td>\n",
       "    </tr>\n",
       "    <tr>\n",
       "      <th>4</th>\n",
       "      <td>FINANZ_MINIMALIST</td>\n",
       "      <td>person</td>\n",
       "      <td>ordinal</td>\n",
       "      <td>[-1]</td>\n",
       "    </tr>\n",
       "  </tbody>\n",
       "</table>\n",
       "</div>"
      ],
      "text/plain": [
       "              attribute information_level         type missing_or_unknown\n",
       "0              AGER_TYP            person  categorical             [-1,0]\n",
       "1  ALTERSKATEGORIE_GROB            person      ordinal           [-1,0,9]\n",
       "2             ANREDE_KZ            person  categorical             [-1,0]\n",
       "3         CJT_GESAMTTYP            person  categorical                [0]\n",
       "4     FINANZ_MINIMALIST            person      ordinal               [-1]"
      ]
     },
     "execution_count": 8,
     "metadata": {},
     "output_type": "execute_result"
    }
   ],
   "source": [
    "feat_info.head()"
   ]
  },
  {
   "cell_type": "code",
   "execution_count": 9,
   "metadata": {},
   "outputs": [],
   "source": [
    "#list to save values to\n",
    "to_save = []\n",
    "\n",
    "for element in feat_info['missing_or_unknown']:\n",
    "    #get rid of brackets\n",
    "    element = element.replace('[', '').replace(']', '')\n",
    "    \n",
    "    #split on commas\n",
    "    element = element.split(',')\n",
    "    \n",
    "    #if there are no misssing values, replace it with None\n",
    "    if element == ['']:\n",
    "        element = [None]\n",
    "        \n",
    "    to_save.append(element)"
   ]
  },
  {
   "cell_type": "code",
   "execution_count": 10,
   "metadata": {},
   "outputs": [
    {
     "name": "stdout",
     "output_type": "stream",
     "text": [
      "85\n"
     ]
    }
   ],
   "source": [
    "print(len(to_save))"
   ]
  },
  {
   "cell_type": "code",
   "execution_count": 11,
   "metadata": {},
   "outputs": [
    {
     "name": "stdout",
     "output_type": "stream",
     "text": [
      "[['-1', '0'], ['-1', '0', '9'], ['-1', '0'], ['0'], ['-1'], ['-1'], ['-1'], ['-1'], ['-1'], ['-1'], ['-1'], ['0'], [None], [None], ['-1', '0'], ['0'], ['0'], ['0'], ['0'], ['0'], ['0'], ['-1', '0'], ['-1', '0'], ['0'], ['-1', '9'], ['-1', '9'], ['-1', '9'], ['-1', '9'], ['-1', '9'], ['-1', '9'], ['-1', '9'], ['-1', '9'], ['-1', '9'], ['-1', '9'], ['-1', '9'], ['-1', '9'], ['-1', '9'], ['-1', '9'], ['-1'], ['-1'], ['-1', '0'], ['-1'], ['-1', '9'], ['0'], [None], [None], ['-1', '0'], ['-1'], ['-1', '0'], ['-1', '0'], ['0'], [None], ['-1', '0'], [None], ['0'], ['-1'], ['-1'], ['-1', 'X'], ['XX'], ['-1', 'XX'], ['-1'], ['-1'], ['-1'], ['-1'], ['-1', '0'], ['-1', '0'], ['-1'], ['-1'], ['-1'], [None], ['-1', '0'], [None], [None], ['-1', '0'], [None], ['-1'], ['-1'], ['-1'], ['-1'], ['-1', '0'], ['-1'], ['-1'], ['-1', '9'], ['-1', '0'], ['-1', '9']]\n"
     ]
    }
   ],
   "source": [
    "print(to_save[:])"
   ]
  },
  {
   "cell_type": "markdown",
   "metadata": {},
   "source": [
    "So now we have a list of lists, each list containing the missing values that we can use for encoding. You can see that both integers and string values can represent a missing value, and that some columns do not have any missing values. Let's convert what values we can to integers."
   ]
  },
  {
   "cell_type": "code",
   "execution_count": 12,
   "metadata": {},
   "outputs": [],
   "source": [
    "#all of the possible ints in the above list\n",
    "list_of_ints = ['-1', '0', '9']\n",
    "\n",
    "for item in to_save:\n",
    "    for i, element in enumerate(item):\n",
    "        if element in list_of_ints:\n",
    "            item[i] = int(element)"
   ]
  },
  {
   "cell_type": "code",
   "execution_count": 13,
   "metadata": {},
   "outputs": [
    {
     "name": "stdout",
     "output_type": "stream",
     "text": [
      "[[-1, 0], [-1, 0, 9], [-1, 0], [0], [-1], [-1], [-1], [-1], [-1], [-1], [-1], [0], [None], [None], [-1, 0], [0], [0], [0], [0], [0], [0], [-1, 0], [-1, 0], [0], [-1, 9], [-1, 9], [-1, 9], [-1, 9], [-1, 9], [-1, 9], [-1, 9], [-1, 9], [-1, 9], [-1, 9], [-1, 9], [-1, 9], [-1, 9], [-1, 9], [-1], [-1], [-1, 0], [-1], [-1, 9], [0], [None], [None], [-1, 0], [-1], [-1, 0], [-1, 0], [0], [None], [-1, 0], [None], [0], [-1], [-1], [-1, 'X'], ['XX'], [-1, 'XX'], [-1], [-1], [-1], [-1], [-1, 0], [-1, 0], [-1], [-1], [-1], [None], [-1, 0], [None], [None], [-1, 0], [None], [-1], [-1], [-1], [-1], [-1, 0], [-1], [-1], [-1, 9], [-1, 0], [-1, 9]]\n"
     ]
    }
   ],
   "source": [
    "print(to_save[:])"
   ]
  },
  {
   "cell_type": "code",
   "execution_count": 17,
   "metadata": {},
   "outputs": [],
   "source": [
    "#save this list to file\n",
    "#we will need it later for pre-processing the customer data\n",
    "with open('to_save.txt', 'wb') as file:\n",
    "    pickle.dump(to_save, file)"
   ]
  },
  {
   "cell_type": "markdown",
   "metadata": {},
   "source": [
    "We can now use this list to replace missing values. We can also notice that either a column has no missing values, or it has missing values. This may sound trivial, but when we enumerate over our lists, if that list contains the value None then we can skip over it."
   ]
  },
  {
   "cell_type": "code",
   "execution_count": 18,
   "metadata": {},
   "outputs": [],
   "source": [
    "columns = azdias.columns\n",
    "\n",
    "#iterate through corrected list\n",
    "#iterator goes from 0-84 for 85 lists/columns\n",
    "for i, item in enumerate(to_save):\n",
    "    for element in item:\n",
    "        #then there are no missing values\n",
    "        if (element == None):\n",
    "            continue\n",
    "            \n",
    "        #else there are missing values and we need to replace them\n",
    "        else:\n",
    "            #replace custom encoded values for each column in azdias\n",
    "            azdias[columns[i]].replace(element, np.nan, inplace=True)"
   ]
  },
  {
   "cell_type": "code",
   "execution_count": 19,
   "metadata": {},
   "outputs": [
    {
     "name": "stdout",
     "output_type": "stream",
     "text": [
      "There are 8373929 total missing values in this data set.\n"
     ]
    }
   ],
   "source": [
    "# Identify missing or unknown data values and convert them to NaNs.\n",
    "missing = np.count_nonzero(azdias.isnull())\n",
    "print('There are {} total missing values in this data set.'.format(missing))"
   ]
  },
  {
   "cell_type": "code",
   "execution_count": 20,
   "metadata": {},
   "outputs": [
    {
     "name": "stdout",
     "output_type": "stream",
     "text": [
      "AGER_TYP                 76.955435\n",
      "ALTERSKATEGORIE_GROB      0.323264\n",
      "ANREDE_KZ                 0.000000\n",
      "CJT_GESAMTTYP             0.544646\n",
      "FINANZ_MINIMALIST         0.000000\n",
      "FINANZ_SPARER             0.000000\n",
      "FINANZ_VORSORGER          0.000000\n",
      "FINANZ_ANLEGER            0.000000\n",
      "FINANZ_UNAUFFAELLIGER     0.000000\n",
      "FINANZ_HAUSBAUER          0.000000\n",
      "FINANZTYP                 0.000000\n",
      "GEBURTSJAHR              44.020282\n",
      "GFK_URLAUBERTYP           0.544646\n",
      "GREEN_AVANTGARDE          0.000000\n",
      "HEALTH_TYP               12.476816\n",
      "LP_LEBENSPHASE_FEIN      10.954859\n",
      "LP_LEBENSPHASE_GROB      10.611509\n",
      "LP_FAMILIE_FEIN           8.728699\n",
      "LP_FAMILIE_GROB           8.728699\n",
      "LP_STATUS_FEIN            0.544646\n",
      "LP_STATUS_GROB            0.544646\n",
      "NATIONALITAET_KZ         12.153551\n",
      "PRAEGENDE_JUGENDJAHRE    12.136608\n",
      "RETOURTYP_BK_S            0.544646\n",
      "SEMIO_SOZ                 0.000000\n",
      "SEMIO_FAM                 0.000000\n",
      "SEMIO_REL                 0.000000\n",
      "SEMIO_MAT                 0.000000\n",
      "SEMIO_VERT                0.000000\n",
      "SEMIO_LUST                0.000000\n",
      "                           ...    \n",
      "OST_WEST_KZ              10.451729\n",
      "WOHNLAGE                 10.451729\n",
      "CAMEO_DEUG_2015          11.147852\n",
      "CAMEO_DEU_2015           11.147852\n",
      "CAMEO_INTL_2015          11.147852\n",
      "KBA05_ANTG1              14.959701\n",
      "KBA05_ANTG2              14.959701\n",
      "KBA05_ANTG3              14.959701\n",
      "KBA05_ANTG4              14.959701\n",
      "KBA05_BAUMAX             53.468668\n",
      "KBA05_GBZ                14.959701\n",
      "BALLRAUM                 10.518154\n",
      "EWDICHTE                 10.518154\n",
      "INNENSTADT               10.518154\n",
      "GEBAEUDETYP_RASTER       10.452514\n",
      "KKK                      17.735668\n",
      "MOBI_REGIO               14.959701\n",
      "ONLINE_AFFINITAET         0.544646\n",
      "REGIOTYP                 17.735668\n",
      "KBA13_ANZAHL_PKW         11.871354\n",
      "PLZ8_ANTG1               13.073637\n",
      "PLZ8_ANTG2               13.073637\n",
      "PLZ8_ANTG3               13.073637\n",
      "PLZ8_ANTG4               13.073637\n",
      "PLZ8_BAUMAX              13.073637\n",
      "PLZ8_HHZ                 13.073637\n",
      "PLZ8_GBZ                 13.073637\n",
      "ARBEIT                   10.926022\n",
      "ORTSGR_KLS9              10.914689\n",
      "RELAT_AB                 10.926022\n",
      "Length: 85, dtype: float64\n"
     ]
    }
   ],
   "source": [
    "#total number of values possible in each column\n",
    "total = azdias.shape[0]\n",
    "\n",
    "#now let's look at how many missing values there are per column\n",
    "#as a percentage of the total dataset\n",
    "missing_per_column = azdias.isnull().sum() / total * 100.0\n",
    "\n",
    "#and pring out the columns\n",
    "print(missing_per_column)"
   ]
  },
  {
   "cell_type": "markdown",
   "metadata": {},
   "source": [
    "### How much missing data is there in each colum?"
   ]
  },
  {
   "cell_type": "code",
   "execution_count": 17,
   "metadata": {},
   "outputs": [
    {
     "data": {
      "image/png": "[encoded data removed]",
      "text/plain": [
       "<matplotlib.figure.Figure at 0x7fd23ec54f98>"
      ]
     },
     "metadata": {
      "needs_background": "light"
     },
     "output_type": "display_data"
    }
   ],
   "source": [
    "# Perform an assessment of how much missing data there is in each column of the\n",
    "# dataset.\n",
    "#plot bar chart\n",
    "missing_per_column.plot.bar(figsize=(15, 7))\n",
    "plt.ylabel('Percent of Missing Data')\n",
    "\n",
    "#plot different threshold values for missing data\n",
    "plt.axhline(y=20, linestyle='--', color='r')\n",
    "plt.axhline(y=15, linestyle='--', color='k')\n",
    "plt.show()"
   ]
  },
  {
   "cell_type": "code",
   "execution_count": 18,
   "metadata": {},
   "outputs": [
    {
     "name": "stdout",
     "output_type": "stream",
     "text": [
      "There are 6 columns missing more than 30% of their data. \n",
      "\n",
      "There are 6 columns missing more than 20% of their data. \n",
      "\n",
      "There are 46 columns missing more than 10% of their data. \n",
      "\n"
     ]
    }
   ],
   "source": [
    "# Investigate patterns in the amount of missing data in each column.\n",
    "#so we have 61 out of 85 columns of our data that contain missing values\n",
    "#how many of those 61 columns are missing more than 20% of their data? 10%?\n",
    "missing30 = np.count_nonzero(missing_per_column>30)\n",
    "missing20 = np.count_nonzero(missing_per_column>20)\n",
    "missing10 = np.count_nonzero(missing_per_column>10)\n",
    "\n",
    "print('There are {} columns missing more than 30% of their data.'.format(missing30), '\\n')\n",
    "print('There are {} columns missing more than 20% of their data.'.format(missing20), '\\n')\n",
    "print('There are {} columns missing more than 10% of their data.'.format(missing10), '\\n')"
   ]
  },
  {
   "cell_type": "markdown",
   "metadata": {},
   "source": [
    "I am going to make the cutoff at 30% of the data. Every column that has more missing data than that can be thrown out. You can see the difference between 10% and 20%: 40 columns! That means we can't be too strict in how much data we expect from each column, unless we want to lose more than half of our data set."
   ]
  },
  {
   "cell_type": "code",
   "execution_count": 19,
   "metadata": {},
   "outputs": [],
   "source": [
    "# Remove the outlier columns from the dataset. (You'll perform other data\n",
    "# engineering tasks such as re-encoding and imputation later.)\n",
    "#find columns with large amounts of missing data\n",
    "idx_to_drop = np.where(missing_per_column>30)[0].tolist()\n",
    "columns_to_drop = columns[idx_to_drop]"
   ]
  },
  {
   "cell_type": "code",
   "execution_count": 20,
   "metadata": {},
   "outputs": [
    {
     "name": "stdout",
     "output_type": "stream",
     "text": [
      "[0, 11, 40, 43, 47, 64]\n",
      "Index(['AGER_TYP', 'GEBURTSJAHR', 'TITEL_KZ', 'ALTER_HH', 'KK_KUNDENTYP',\n",
      "       'KBA05_BAUMAX'],\n",
      "      dtype='object')\n"
     ]
    }
   ],
   "source": [
    "print(idx_to_drop)\n",
    "print(columns_to_drop)"
   ]
  },
  {
   "cell_type": "code",
   "execution_count": 21,
   "metadata": {},
   "outputs": [],
   "source": [
    "#drop those columns\n",
    "azdias.drop(columns_to_drop, axis=1, inplace=True)\n",
    "\n",
    "#also drop those labels as rows in our feature info dataframe\n",
    "feat_info.drop(idx_to_drop, axis=0, inplace=True)"
   ]
  },
  {
   "cell_type": "code",
   "execution_count": 22,
   "metadata": {},
   "outputs": [
    {
     "name": "stdout",
     "output_type": "stream",
     "text": [
      "(891221, 79)\n",
      "(79, 4)\n"
     ]
    }
   ],
   "source": [
    "#we had 85 columns before, and dropped 9 columns\n",
    "#so we should have 76 columns now\n",
    "print(azdias.shape)\n",
    "print(feat_info.shape)"
   ]
  },
  {
   "cell_type": "code",
   "execution_count": 23,
   "metadata": {},
   "outputs": [
    {
     "name": "stdout",
     "output_type": "stream",
     "text": [
      "[False, False, False, False, False, False]\n"
     ]
    }
   ],
   "source": [
    "#see if columns to drop are still in dataframe\n",
    "print([elem in azdias.columns for elem in columns_to_drop])"
   ]
  },
  {
   "cell_type": "markdown",
   "metadata": {},
   "source": [
    "### Assess missing data in each column:\n",
    "\n",
    "- 'AGER_TYP': best-ager typology \n",
    "- 'GEBURTSJAHR': year of birth\n",
    "- 'TITEL_KZ': academic title flag\n",
    "- 'ALTER_HH': birthdate of head of household\n",
    "- 'KK_KUNDENTYP: consumer pattern over past 12 months\n",
    "- 'W_KEIT_KIND_HH': likelihood of children in household\n",
    "- 'KBA05_BAUMAX': most common building type within the microcell\n",
    "- 'KKK': purchasing power in region\n",
    "- 'REGIOTYP: neighborhood topology\n",
    "\n",
    "It seem that the missing values come from two main camps of uncertainty. First, many of the columns stem from either direct or indirect uncertainty about someone's age. The direct columns are easy to spot, but things like purchasing power could be tied up in that.\n",
    "\n",
    "Then there are columns with direct connections to uncertainty in the neighborhood or the housing complex.\n",
    "\n",
    "What I thought was most interesting were the columns `'KK_KUNDENTYP'`, `'KKK'` and `'TITEL_KZ'`. Purchasing power in region, consumer behavior patterns, and academic title flag seem connected to me. These columns could be a mix of both the uncertainty due to age and the uncertainty due to housing conditions, or they could simply represent missing data. More would need to be known about how the data was collected."
   ]
  },
  {
   "cell_type": "markdown",
   "metadata": {},
   "source": [
    "### How much data is data in each row?\n",
    "\n",
    "We can perform a similar assessment for the rows of the dataset. Then, depending on how much data is missing, we can divide the data into two subsets: one for data points that are above some threshold for missing values, and a second subset for points below that threshold."
   ]
  },
  {
   "cell_type": "code",
   "execution_count": 24,
   "metadata": {
    "scrolled": true
   },
   "outputs": [
    {
     "name": "stdout",
     "output_type": "stream",
     "text": [
      "0         54.430380\n",
      "1          0.000000\n",
      "2          0.000000\n",
      "3          8.860759\n",
      "4          0.000000\n",
      "5          0.000000\n",
      "6          0.000000\n",
      "7          0.000000\n",
      "8          0.000000\n",
      "9          0.000000\n",
      "10         0.000000\n",
      "11        59.493671\n",
      "12         7.594937\n",
      "13        10.126582\n",
      "14        59.493671\n",
      "15        10.126582\n",
      "16         7.594937\n",
      "17        59.493671\n",
      "18         3.797468\n",
      "19         0.000000\n",
      "20        12.658228\n",
      "21         0.000000\n",
      "22         0.000000\n",
      "23        10.126582\n",
      "24        59.493671\n",
      "25         6.329114\n",
      "26        24.050633\n",
      "27         0.000000\n",
      "28         0.000000\n",
      "29         2.531646\n",
      "            ...    \n",
      "891191     0.000000\n",
      "891192     0.000000\n",
      "891193     0.000000\n",
      "891194     0.000000\n",
      "891195     0.000000\n",
      "891196     0.000000\n",
      "891197     0.000000\n",
      "891198     0.000000\n",
      "891199     0.000000\n",
      "891200     0.000000\n",
      "891201     0.000000\n",
      "891202     0.000000\n",
      "891203    17.721519\n",
      "891204     0.000000\n",
      "891205     0.000000\n",
      "891206     0.000000\n",
      "891207     0.000000\n",
      "891208     3.797468\n",
      "891209     0.000000\n",
      "891210     0.000000\n",
      "891211     0.000000\n",
      "891212     0.000000\n",
      "891213     0.000000\n",
      "891214     0.000000\n",
      "891215     0.000000\n",
      "891216     3.797468\n",
      "891217     5.063291\n",
      "891218     6.329114\n",
      "891219     0.000000\n",
      "891220     0.000000\n",
      "Length: 891221, dtype: float64\n"
     ]
    }
   ],
   "source": [
    "# How much data is missing in each row of the dataset?\n",
    "#total number of values possible in each row\n",
    "rows, cols = azdias.shape\n",
    "\n",
    "#now let's look at how many missing values there are per row\n",
    "#as a percentage of the total dataset\n",
    "missing_per_row = azdias.isnull().sum(axis=1) / cols * 100.0\n",
    "\n",
    "#and pring out the row\n",
    "print(missing_per_row)"
   ]
  },
  {
   "cell_type": "code",
   "execution_count": 25,
   "metadata": {},
   "outputs": [
    {
     "name": "stdout",
     "output_type": "stream",
     "text": [
      "891221\n"
     ]
    }
   ],
   "source": [
    "print(len(missing_per_row))"
   ]
  },
  {
   "cell_type": "markdown",
   "metadata": {},
   "source": [
    "We see that the data contains *rows* with lots of missing data, as before there were columns with a lot of missing values. Let's visualize the rows, and then pick a threshold to separate the data based on the amount of missing data."
   ]
  },
  {
   "cell_type": "code",
   "execution_count": 26,
   "metadata": {},
   "outputs": [
    {
     "name": "stdout",
     "output_type": "stream",
     "text": [
      "7.15176430049\n"
     ]
    }
   ],
   "source": [
    "mean_row_missing = np.mean(missing_per_row)\n",
    "print(mean_row_missing)"
   ]
  },
  {
   "cell_type": "code",
   "execution_count": 27,
   "metadata": {},
   "outputs": [
    {
     "name": "stdout",
     "output_type": "stream",
     "text": [
      "69.93% of the data has no missing values.\n",
      "80.75% of the data has missing values less than the overall row mean.\n"
     ]
    }
   ],
   "source": [
    "#amount of data not missing any values\n",
    "not_missing = np.round((np.count_nonzero(missing_per_row == 0)  / rows * 100), 2)\n",
    "missing_row = np.round((np.count_nonzero(missing_per_row < mean_row_missing)  / rows * 100), 2)\n",
    "\n",
    "print('{}% of the data has no missing values.'.format(not_missing))\n",
    "print('{}% of the data has missing values less than the overall row mean.'.format(missing_row))"
   ]
  },
  {
   "cell_type": "code",
   "execution_count": 28,
   "metadata": {},
   "outputs": [],
   "source": [
    "# Write code to divide the data into two subsets based on the number of missing\n",
    "# values in each row.\n",
    "\n",
    "#create index to subset dataframe rows with\n",
    "sub_idx = np.where(missing_per_row == 0)[0].tolist()\n",
    "azdias_sub = azdias.copy().iloc[sub_idx, :]\n",
    "\n",
    "#subset data for where there are many missing values\n",
    "large_idx = np.where(missing_per_row > 0)[0].tolist()\n",
    "azdias_many_missing = azdias.copy().iloc[large_idx, :]"
   ]
  },
  {
   "cell_type": "code",
   "execution_count": 29,
   "metadata": {},
   "outputs": [
    {
     "name": "stdout",
     "output_type": "stream",
     "text": [
      "623209\n",
      "(623209, 79)\n",
      "(268012, 79)\n"
     ]
    }
   ],
   "source": [
    "print(len(sub_idx))\n",
    "print(azdias_sub.shape)\n",
    "print(azdias_many_missing.shape)"
   ]
  },
  {
   "cell_type": "code",
   "execution_count": 30,
   "metadata": {},
   "outputs": [],
   "source": [
    "#check to make sure data has been subset correctly, no duplicates\n",
    "assert(azdias_sub.shape[0] == rows - azdias_many_missing.shape[0])"
   ]
  },
  {
   "cell_type": "markdown",
   "metadata": {},
   "source": [
    "### Look at distributions of data with and without missing values."
   ]
  },
  {
   "cell_type": "code",
   "execution_count": 31,
   "metadata": {},
   "outputs": [],
   "source": [
    "# Compare the distribution of values for at least five columns where there are\n",
    "# no or few missing values, between the two subsets.\n",
    "\n",
    "#input: two dataframe subsets of data, and a column\n",
    "#output: show how those two dataframes compare based on the input column\n",
    "def show_diff(df1, df2, col):\n",
    "    fig, ax = plt.subplots(1, 2, figsize=(15, 7))\n",
    "    \n",
    "    sns.countplot(data=df1, x=col, ax=ax[0])\n",
    "    ax[0].set_xlabel('Few missing values')\n",
    "    \n",
    "    sns.countplot(data=df2, x=col, ax=ax[1])\n",
    "    ax[1].set_xlabel('Many missing values')\n",
    "    \n",
    "    title = \"Count Plot for Column {} in Dataset\".format(col)\n",
    "    plt.suptitle(title, fontsize=16)\n",
    "    \n",
    "    plt.show()"
   ]
  },
  {
   "cell_type": "code",
   "execution_count": 32,
   "metadata": {},
   "outputs": [
    {
     "data": {
      "image/png": "[encoded data removed]",
      "text/plain": [
       "<matplotlib.figure.Figure at 0x7fd23c7092e8>"
      ]
     },
     "metadata": {
      "needs_background": "light"
     },
     "output_type": "display_data"
    }
   ],
   "source": [
    "#let's look at a few columns and their respective distributions\n",
    "show_diff(azdias_sub, azdias_many_missing, 'FINANZ_MINIMALIST')"
   ]
  },
  {
   "cell_type": "code",
   "execution_count": 33,
   "metadata": {},
   "outputs": [
    {
     "data": {
      "image/png": "[encoded data removed]",
      "text/plain": [
       "<matplotlib.figure.Figure at 0x7fd229fc0470>"
      ]
     },
     "metadata": {
      "needs_background": "light"
     },
     "output_type": "display_data"
    }
   ],
   "source": [
    "show_diff(azdias_sub, azdias_many_missing, 'PRAEGENDE_JUGENDJAHRE')"
   ]
  },
  {
   "cell_type": "code",
   "execution_count": 34,
   "metadata": {},
   "outputs": [
    {
     "data": {
      "image/png": "[encoded data removed]",
      "text/plain": [
       "<matplotlib.figure.Figure at 0x7fd23c69d2e8>"
      ]
     },
     "metadata": {
      "needs_background": "light"
     },
     "output_type": "display_data"
    }
   ],
   "source": [
    "show_diff(azdias_sub, azdias_many_missing, 'OST_WEST_KZ')"
   ]
  },
  {
   "cell_type": "code",
   "execution_count": 35,
   "metadata": {},
   "outputs": [
    {
     "data": {
      "image/png": "[encoded data removed]",
      "text/plain": [
       "<matplotlib.figure.Figure at 0x7fd229e545f8>"
      ]
     },
     "metadata": {
      "needs_background": "light"
     },
     "output_type": "display_data"
    }
   ],
   "source": [
    "show_diff(azdias_sub, azdias_many_missing, 'CAMEO_DEU_2015')"
   ]
  },
  {
   "cell_type": "code",
   "execution_count": 36,
   "metadata": {},
   "outputs": [
    {
     "data": {
      "image/png": "[encoded data removed]",
      "text/plain": [
       "<matplotlib.figure.Figure at 0x7fd229dbac50>"
      ]
     },
     "metadata": {
      "needs_background": "light"
     },
     "output_type": "display_data"
    }
   ],
   "source": [
    "show_diff(azdias_sub, azdias_many_missing, 'BALLRAUM')"
   ]
  },
  {
   "cell_type": "markdown",
   "metadata": {},
   "source": [
    "### Assess Missing Data in Each Row\n",
    "The data can be separated into rows that have large amounts of missing data, and into a subset with relatively few missing data points. We can see that by comparing a few columns of the data, that there are some columns with very different distributions between the two subsets (look at `'FINANZ_MINIMALIST'` and `'CAMEO_DEU_2015'`, while other columns look almost identical.\n",
    "\n",
    "Because we have a lot of data, I feel comfortable keeping only the rows with no missing data. This will also simplify pre-processing later, because scikit-learns's StandardScaler() assumes that we have no missing data (which we need to apply to our data before doing PCA)."
   ]
  },
  {
   "cell_type": "markdown",
   "metadata": {},
   "source": [
    "### Select and Re-Encode Features\n",
    "\n",
    "Since the clustering techniques we want to use will only work on data that is encoded numerically, we need to make a few encoding changes or additional assumptions to be able to make progress. In addition, while almost all of the values in the dataset are encoded using numbers, not all of them represent numeric values. Check the third column of the feature summary (`feat_info`) for a summary of types of measurement.\n",
    "- For numeric and interval data, these features can be kept without changes.\n",
    "- Most of the variables in the dataset are ordinal in nature. While ordinal values may technically be non-linear in spacing, make the simplifying assumption that the ordinal variables can be treated as being interval in nature (that is, kept without any changes).\n",
    "- Special handling may be necessary for the remaining two variable types: categorical, and 'mixed'."
   ]
  },
  {
   "cell_type": "code",
   "execution_count": 37,
   "metadata": {},
   "outputs": [
    {
     "name": "stdout",
     "output_type": "stream",
     "text": [
      "['ordinal' 'categorical' 'mixed' 'numeric'] \n",
      "\n",
      "There are 18 columns of type 'categorical'.\n",
      "There are 6 columns of type 'mixed'. \n",
      "\n",
      "So out of 79 columns in our dataset, 24 need to be encoded.\n"
     ]
    }
   ],
   "source": [
    "# How many features are there of each data type?\n",
    "print(feat_info.type.unique(), '\\n')\n",
    "\n",
    "num_cat = np.sum(feat_info.type == 'categorical')\n",
    "num_mix = np.sum(feat_info.type == 'mixed')\n",
    "num_both = num_cat + num_mix\n",
    "\n",
    "print(\"There are {} columns of type 'categorical'.\".format(num_cat))\n",
    "print(\"There are {} columns of type 'mixed'.\".format(num_mix), '\\n')\n",
    "\n",
    "print(\"So out of {} columns in our dataset, {} need to be encoded.\".format(cols, num_both))"
   ]
  },
  {
   "cell_type": "markdown",
   "metadata": {},
   "source": [
    "### Categorical features\n",
    "\n",
    "Let's encode the categorical data like so:\n",
    "- For binary (two-level) categoricals that take numeric values, we can keep them without needing to do anything.\n",
    "- There is one binary variable that takes on non-numeric values. For this one, you need to re-encode the values as numbers or create a dummy variable.\n",
    "- For multi-level categoricals (three or more values), we can choose to encode the values using multiple dummy variables, or (to keep things straightforward) just drop them from the analysis. "
   ]
  },
  {
   "cell_type": "code",
   "execution_count": 38,
   "metadata": {},
   "outputs": [],
   "source": [
    "# Assess categorical variables: which are binary, which are multi-level, and\n",
    "# which one needs to be re-encoded?\n",
    "#redefine columns, because we dropped some before\n",
    "subcolumns = azdias_sub.columns\n",
    "\n",
    "#find the indices matching categorical and mixed type columns\n",
    "cat_idx = np.where(feat_info.type == 'categorical')[0].tolist()\n",
    "mix_idx = np.where(feat_info.type == 'mixed')[0].tolist()\n",
    "\n",
    "#subset columns list for this indices\n",
    "cat_cols = subcolumns[cat_idx]\n",
    "mix_cols = subcolumns[mix_idx]\n",
    "\n",
    "#subset our dataframe for these columns\n",
    "azdias_cat = azdias_sub[cat_cols]\n",
    "azdias_mix = azdias_sub[mix_cols]"
   ]
  },
  {
   "cell_type": "code",
   "execution_count": 39,
   "metadata": {},
   "outputs": [
    {
     "name": "stdout",
     "output_type": "stream",
     "text": [
      "0 ANREDE_KZ [2, 1]\n",
      "1 CJT_GESAMTTYP [5.0, 3.0, 2.0, 4.0, 1.0, 6.0]\n",
      "2 FINANZTYP [1, 5, 2, 4, 6, 3]\n",
      "3 GFK_URLAUBERTYP [10.0, 5.0, 1.0, 12.0, 9.0, 3.0, 8.0, 11.0, 4.0, 7.0, 6.0, 2.0]\n",
      "4 GREEN_AVANTGARDE [0, 1]\n",
      "5 LP_FAMILIE_FEIN [5.0, 1.0, 10.0, 2.0, 7.0, 11.0, 8.0, 4.0, 6.0, 9.0, 3.0]\n",
      "6 LP_FAMILIE_GROB [3.0, 1.0, 5.0, 2.0, 4.0]\n",
      "7 LP_STATUS_FEIN [2.0, 3.0, 4.0, 1.0, 10.0, 9.0, 5.0, 6.0, 7.0, 8.0]\n",
      "8 LP_STATUS_GROB [1.0, 2.0, 5.0, 4.0, 3.0]\n",
      "9 NATIONALITAET_KZ [1.0, 2.0, 3.0]\n",
      "10 SHOPPER_TYP [3.0, 2.0, 0.0, 1.0]\n",
      "11 SOHO_KZ [1.0, 0.0]\n",
      "12 VERS_TYP [2.0, 1.0]\n",
      "13 ZABEOTYP [5, 4, 1, 6, 3, 2]\n",
      "14 GEBAEUDETYP [8.0, 1.0, 3.0, 5.0]\n",
      "15 OST_WEST_KZ ['W', 'O']\n",
      "16 CAMEO_DEUG_2015 ['8', '4', '6', '2', '1', '9', '5', '7', '3']\n",
      "17 CAMEO_DEU_2015 ['8A', '4C', '6B', '8C', '4A', '2D', '1A', '1E', '9D', '5D', '9E', '9B', '1B', '8B', '7A', '3D', '4E', '3C', '5A', '7B', '9A', '6E', '6D', '2C', '5C', '9C', '7D', '5E', '1D', '8D', '6C', '5B', '7C', '4D', '3A', '2B', '7E', '4B', '2A', '3B', '6F', '5F', '1C', '6A']\n"
     ]
    }
   ],
   "source": [
    "unique_cat = []\n",
    "\n",
    "for i, col in enumerate(azdias_cat.columns):\n",
    "    to_append = list(azdias_cat[col].unique())\n",
    "    unique_cat.append(to_append)\n",
    "    \n",
    "    print(i, col, to_append)"
   ]
  },
  {
   "cell_type": "markdown",
   "metadata": {},
   "source": [
    "### Categorical features, discussion.\n",
    "We can see right off the bat that one-hot encoding would increase our feature set by quite a few columns. We will need to convert `'OST_WEST_KZ'` to numeric columns, and `'CAMEO_DEU_2015'` seems like a more elaborate `'CAMEO_DEUG_2015'` column, so we will drop it for the sake of our analysis. The same can be said for `'LP_FAMILIE_FEIN'` and `'LP_FAMILIE_GROB'`, and then for `'LP_STATUS_FEIN'` and `'LP_STATUS_GROB'`, which are fine and rough scales of the same columns. We can keep the rough scale versions and drop the fine scales. That leaves 15 categorical columns to encode."
   ]
  },
  {
   "cell_type": "code",
   "execution_count": 40,
   "metadata": {},
   "outputs": [
    {
     "name": "stdout",
     "output_type": "stream",
     "text": [
      "Index(['ANREDE_KZ', 'CJT_GESAMTTYP', 'FINANZTYP', 'GFK_URLAUBERTYP',\n",
      "       'GREEN_AVANTGARDE', 'LP_FAMILIE_FEIN', 'LP_FAMILIE_GROB',\n",
      "       'LP_STATUS_FEIN', 'LP_STATUS_GROB', 'NATIONALITAET_KZ', 'SHOPPER_TYP',\n",
      "       'SOHO_KZ', 'VERS_TYP', 'ZABEOTYP', 'GEBAEUDETYP', 'OST_WEST_KZ',\n",
      "       'CAMEO_DEUG_2015', 'CAMEO_DEU_2015'],\n",
      "      dtype='object')\n"
     ]
    }
   ],
   "source": [
    "print(cat_cols)"
   ]
  },
  {
   "cell_type": "code",
   "execution_count": 41,
   "metadata": {},
   "outputs": [
    {
     "name": "stdout",
     "output_type": "stream",
     "text": [
      "(623209, 76)\n"
     ]
    }
   ],
   "source": [
    "to_drop = ['LP_FAMILIE_FEIN', 'LP_STATUS_FEIN', 'CAMEO_DEU_2015']\n",
    "azdias_sub.drop(to_drop, axis=1, inplace=True)\n",
    "\n",
    "#update categorical columns for updating\n",
    "cat_cols = [col for col in cat_cols if col not in to_drop]\n",
    "\n",
    "#now we should have 73 columns\n",
    "print(azdias_sub.shape)"
   ]
  },
  {
   "cell_type": "code",
   "execution_count": 42,
   "metadata": {},
   "outputs": [
    {
     "name": "stdout",
     "output_type": "stream",
     "text": [
      "1 CJT_GESAMTTYP [5.0, 3.0, 2.0, 4.0, 1.0, 6.0]\n",
      "2 FINANZTYP [1, 5, 2, 4, 6, 3]\n",
      "3 GFK_URLAUBERTYP [10.0, 5.0, 1.0, 12.0, 9.0, 3.0, 8.0, 11.0, 4.0, 7.0, 6.0, 2.0]\n",
      "5 LP_FAMILIE_GROB [3.0, 1.0, 5.0, 2.0, 4.0]\n",
      "6 LP_STATUS_GROB [1.0, 2.0, 5.0, 4.0, 3.0]\n",
      "8 SHOPPER_TYP [3.0, 2.0, 0.0, 1.0]\n",
      "11 ZABEOTYP [5, 4, 1, 6, 3, 2]\n",
      "12 GEBAEUDETYP [8.0, 1.0, 3.0, 5.0]\n",
      "14 CAMEO_DEUG_2015 ['8', '4', '6', '2', '1', '9', '5', '7', '3']\n"
     ]
    }
   ],
   "source": [
    "#multi-level categorical features list\n",
    "binary = []\n",
    "ml_col = []\n",
    "\n",
    "#make a copy of updated categorical dataframe\n",
    "azdias_cat2 = azdias_cat.copy().drop(to_drop, axis=1)\n",
    "\n",
    "\n",
    "for i, col in enumerate(azdias_cat2.columns):\n",
    "    to_append = list(azdias_cat2[col].unique())\n",
    "    \n",
    "    #count length of unique features in column\n",
    "    #if more than two, append to ml list\n",
    "    if len(to_append) == 2:\n",
    "        binary.append(col)\n",
    "        \n",
    "    if len(to_append) > 3:\n",
    "        ml_col.append(col)\n",
    "        print(i, col, to_append)"
   ]
  },
  {
   "cell_type": "markdown",
   "metadata": {},
   "source": [
    "Let's pick a threshold value of 3 for how many unique values a categorical column can have before we drop it. I think keeping some of the columns is of value, but one hot encoding 4, 6, 9, or even 12 individual values per column will slow down our analysis."
   ]
  },
  {
   "cell_type": "code",
   "execution_count": 43,
   "metadata": {},
   "outputs": [],
   "source": [
    "# Re-encode categorical variable(s) to be kept in the analysis.\n",
    "\n",
    "#one-hot encoding using pandas\n",
    "#first process OST_WEST_KZ column, then drop the categorical column\n",
    "azdias_sub = pd.concat([azdias_sub, pd.get_dummies(azdias_sub['OST_WEST_KZ'], prefix = 'OST_WEST_KZ')], axis=1)\n",
    "azdias_sub.drop('OST_WEST_KZ', axis=1, inplace=True)\n",
    "cat_cols = [col for col in cat_cols if col != 'OST_WEST_KZ']"
   ]
  },
  {
   "cell_type": "code",
   "execution_count": 44,
   "metadata": {},
   "outputs": [
    {
     "name": "stdout",
     "output_type": "stream",
     "text": [
      "['CJT_GESAMTTYP', 'FINANZTYP', 'GFK_URLAUBERTYP', 'LP_FAMILIE_GROB', 'LP_STATUS_GROB', 'SHOPPER_TYP', 'ZABEOTYP', 'GEBAEUDETYP', 'CAMEO_DEUG_2015']\n"
     ]
    }
   ],
   "source": [
    "print(ml_col)"
   ]
  },
  {
   "cell_type": "code",
   "execution_count": 45,
   "metadata": {},
   "outputs": [
    {
     "name": "stdout",
     "output_type": "stream",
     "text": [
      "['NATIONALITAET_KZ']\n"
     ]
    }
   ],
   "source": [
    "#drop columns with more than 5 unique values\n",
    "azdias_sub.drop(ml_col, axis=1, inplace=True)\n",
    "\n",
    "#update categorical columns\n",
    "cat_cols = [col for col in cat_cols if col not in binary]\n",
    "cat_cols = [col for col in cat_cols if col not in ml_col]\n",
    "\n",
    "print(cat_cols)"
   ]
  },
  {
   "cell_type": "code",
   "execution_count": 46,
   "metadata": {},
   "outputs": [
    {
     "data": {
      "text/plain": [
       "1"
      ]
     },
     "execution_count": 46,
     "metadata": {},
     "output_type": "execute_result"
    }
   ],
   "source": [
    "azdias_sub.shape\n",
    "len(cat_cols)"
   ]
  },
  {
   "cell_type": "code",
   "execution_count": 47,
   "metadata": {},
   "outputs": [],
   "source": [
    "#get dummy variables for all of the rest of the categorical columns\n",
    "for col in cat_cols:\n",
    "    azdias_sub = pd.concat([azdias_sub, pd.get_dummies(azdias_sub[col], prefix=col)], axis=1)\n",
    "    \n",
    "azdias_sub.drop(cat_cols, axis=1, inplace=True)"
   ]
  },
  {
   "cell_type": "code",
   "execution_count": 48,
   "metadata": {},
   "outputs": [
    {
     "name": "stdout",
     "output_type": "stream",
     "text": [
      "(623209, 70)\n"
     ]
    }
   ],
   "source": [
    "print(azdias_sub.shape)"
   ]
  },
  {
   "cell_type": "markdown",
   "metadata": {},
   "source": [
    "### Mixed-Type features\n",
    "\n",
    "There are a handful of features that are marked as \"mixed\" in the feature summary that require special treatment in order to be included in the analysis. There are two in particular that deserve attention; the handling of the rest are up to your own choices:\n",
    "- \"PRAEGENDE_JUGENDJAHRE\" combines information on three dimensions: generation by decade, movement (mainstream vs. avantgarde), and nation (east vs. west). While there aren't enough levels to disentangle east from west, you should create two new variables to capture the other two dimensions: an interval-type variable for decade, and a binary variable for movement.\n",
    "- \"CAMEO_INTL_2015\" combines information on two axes: wealth and life stage. Break up the two-digit codes by their 'tens'-place and 'ones'-place digits into two new ordinal variables (which, for the purposes of this project, is equivalent to just treating them as their raw numeric values)."
   ]
  },
  {
   "cell_type": "code",
   "execution_count": 49,
   "metadata": {},
   "outputs": [
    {
     "name": "stdout",
     "output_type": "stream",
     "text": [
      "['LP_LEBENSPHASE_FEIN' 'LP_LEBENSPHASE_GROB' 'PRAEGENDE_JUGENDJAHRE'\n",
      " 'WOHNLAGE' 'CAMEO_INTL_2015' 'PLZ8_BAUMAX']\n"
     ]
    }
   ],
   "source": [
    "print(mix_cols.values)"
   ]
  },
  {
   "cell_type": "code",
   "execution_count": 50,
   "metadata": {},
   "outputs": [],
   "source": [
    "decade_copy = azdias_sub['PRAEGENDE_JUGENDJAHRE'].copy()\n",
    "\n",
    "#specify conditions\n",
    "conditional_40 = decade_copy <= 2\n",
    "conditional_50 = np.logical_and(decade_copy > 2, decade_copy <= 4)\n",
    "conditional_60 = np.logical_and(decade_copy > 4, decade_copy <= 7)\n",
    "conditional_70 = np.logical_and(decade_copy > 7, decade_copy <= 9)\n",
    "conditional_80 = np.logical_and(decade_copy > 9, decade_copy <= 13)\n",
    "conditional_90 = decade_copy > 13\n",
    "\n",
    "decade_copy[conditional_40] = 40\n",
    "decade_copy[conditional_50] = 50\n",
    "decade_copy[conditional_60] = 60\n",
    "decade_copy[conditional_70] = 70\n",
    "decade_copy[conditional_80] = 80\n",
    "decade_copy[conditional_90] = 90"
   ]
  },
  {
   "cell_type": "code",
   "execution_count": 51,
   "metadata": {},
   "outputs": [
    {
     "name": "stdout",
     "output_type": "stream",
     "text": [
      "[ 90.  70.  50.  80.  60.  40.]\n"
     ]
    }
   ],
   "source": [
    "print(decade_copy.unique())"
   ]
  },
  {
   "cell_type": "code",
   "execution_count": 52,
   "metadata": {},
   "outputs": [],
   "source": [
    "#create new column here for decade\n",
    "azdias_sub['PRAEGENDE_JUGENDJAHRE_decade'] = decade_copy"
   ]
  },
  {
   "cell_type": "code",
   "execution_count": 53,
   "metadata": {},
   "outputs": [
    {
     "name": "stdout",
     "output_type": "stream",
     "text": [
      "1    14.0\n",
      "2    15.0\n",
      "4     8.0\n",
      "5     3.0\n",
      "6    10.0\n",
      "Name: PRAEGENDE_JUGENDJAHRE, dtype: float64\n"
     ]
    }
   ],
   "source": [
    "print(azdias_sub['PRAEGENDE_JUGENDJAHRE'].head())"
   ]
  },
  {
   "cell_type": "code",
   "execution_count": 54,
   "metadata": {},
   "outputs": [
    {
     "name": "stdout",
     "output_type": "stream",
     "text": [
      "1    90.0\n",
      "2    90.0\n",
      "4    70.0\n",
      "5    50.0\n",
      "6    80.0\n",
      "Name: PRAEGENDE_JUGENDJAHRE_decade, dtype: float64\n"
     ]
    }
   ],
   "source": [
    "print(azdias_sub['PRAEGENDE_JUGENDJAHRE_decade'].head())"
   ]
  },
  {
   "cell_type": "code",
   "execution_count": 55,
   "metadata": {},
   "outputs": [],
   "source": [
    "#mainstream and avantgarde values, from Data_Dictionary.md\n",
    "main_idx = [1, 3, 5, 8, 10, 12, 14]\n",
    "avant_idx = [2, 4, 6, 7, 9, 11, 13, 15]\n",
    "\n",
    "movement = azdias_sub['PRAEGENDE_JUGENDJAHRE'].copy()\n",
    "\n",
    "#let's encode the movement to be 1 if mainstream, 0 if avantgarde\n",
    "move = []\n",
    "\n",
    "for value in movement:\n",
    "    if value in main_idx:\n",
    "        move.append(1)\n",
    "    else:\n",
    "        move.append(0)"
   ]
  },
  {
   "cell_type": "code",
   "execution_count": 56,
   "metadata": {},
   "outputs": [],
   "source": [
    "#create new column for movement\n",
    "azdias_sub['PRAEGENDE_JUGENDJAHRE_move'] = move"
   ]
  },
  {
   "cell_type": "code",
   "execution_count": 58,
   "metadata": {},
   "outputs": [],
   "source": [
    "# Investigate \"CAMEO_INTL_2015\" and engineer two new variables.\n",
    "#convert cameo_intl_2015 column into two columns\n",
    "#one for the ten's place, the other for the one's place\n",
    "azdias_sub['CAMEO_INTL_2015_tens'] = azdias_sub['CAMEO_INTL_2015'].copy().astype(int) // 10\n",
    "azdias_sub['CAMEO_INTL_2015_ones'] = azdias_sub['CAMEO_INTL_2015'].copy().astype(int) % 10"
   ]
  },
  {
   "cell_type": "code",
   "execution_count": 59,
   "metadata": {},
   "outputs": [
    {
     "name": "stdout",
     "output_type": "stream",
     "text": [
      "  CAMEO_INTL_2015  CAMEO_INTL_2015_tens  CAMEO_INTL_2015_ones\n",
      "1              51                     5                     1\n",
      "2              24                     2                     4\n",
      "4              43                     4                     3\n",
      "5              54                     5                     4\n",
      "6              22                     2                     2\n"
     ]
    }
   ],
   "source": [
    "#let's see these columns\n",
    "print(azdias_sub[['CAMEO_INTL_2015', 'CAMEO_INTL_2015_tens', 'CAMEO_INTL_2015_ones']].head())"
   ]
  },
  {
   "cell_type": "markdown",
   "metadata": {},
   "source": [
    "`'LP_LEBENSPHASE_FEIN'` is the fine scale version of `'LP_LEBENSPHASE_GROB'` and includes 40 unique values. That is too many to one hot encode, especially since we can get a scaled down version of 12 different unique values in the rough scale feature. `'WOHNLAGE'` includes information about neighborhood quality, and only has 8 values to encode. I think that this information could be useful, so I am going to create dummy variables for this column. Lastly, we have `'PLZ8_BAUMAX'` that describes the most common building types in a neighborhood. This information is already contained in the other `'PLZ8_'` columns, so it too can be removed."
   ]
  },
  {
   "cell_type": "code",
   "execution_count": 60,
   "metadata": {},
   "outputs": [],
   "source": [
    "#get dummy variables for interesting mixed columns\n",
    "mix_cols_keep = ['LP_LEBENSPHASE_GROB', 'WOHNLAGE']\n",
    "for col in mix_cols_keep:\n",
    "    azdias_sub = pd.concat([azdias_sub, pd.get_dummies(azdias_sub[col], prefix=col)], axis=1)"
   ]
  },
  {
   "cell_type": "markdown",
   "metadata": {},
   "source": [
    "### Mixed-Type features, discussion.\n",
    "After preprocessing the categorical columns, we have 2 new features from both `'PRAEGENDE_JUGENDJAHRE'` and `'CAMEO_INTL_2015'`. We then picked up 18 columns from processing `'LP_LEBENSPHASE_GROB'` and `'WOHNLAGE'`, but need to subtract 2 columns from `'LP_LEBENSPHASE_FEIN'` and `'PLZ8_BAUMAX'`. This brings the grand total to 88 columns, all of which are numeric and are either interval, ordinal, binary, or some other engineered feature."
   ]
  },
  {
   "cell_type": "code",
   "execution_count": 61,
   "metadata": {},
   "outputs": [],
   "source": [
    "#drop unnecessary mixed value columns\n",
    "azdias_sub.drop(mix_cols, axis=1, inplace=True)\n",
    "\n",
    "#update columns variable\n",
    "columns = azdias_sub.columns"
   ]
  },
  {
   "cell_type": "code",
   "execution_count": 62,
   "metadata": {},
   "outputs": [
    {
     "name": "stdout",
     "output_type": "stream",
     "text": [
      "(623209, 88)\n"
     ]
    }
   ],
   "source": [
    "print(azdias_sub.shape)"
   ]
  },
  {
   "cell_type": "code",
   "execution_count": 70,
   "metadata": {},
   "outputs": [],
   "source": [
    "#put all cleaning steps into one function\n",
    "#this function assumes that we have acces to the to_save list prepared above\n",
    "def clean_data(df, missing_values):\n",
    "    \"\"\"\n",
    "    Perform feature trimming, re-encoding, and engineering for demographics\n",
    "    data\n",
    "    \n",
    "    INPUT: Demographics DataFrame\n",
    "    OUTPUT: Trimmed and cleaned demographics DataFrame\n",
    "    \"\"\"\n",
    "    \n",
    "    # Put in code here to execute all main cleaning steps:\n",
    "    # convert missing value codes into NaNs, ...\n",
    "    columns = df.columns\n",
    "\n",
    "    #iterate through missing values list\n",
    "    for i, item in enumerate(missing_values):\n",
    "        for element in item:\n",
    "            #then there are no missing values\n",
    "            if (element == None):\n",
    "                continue\n",
    "            \n",
    "            #else there are missing values and we need to replace them\n",
    "            else:\n",
    "                #replace custom encoded values for each column in df\n",
    "                df[columns[i]].replace(element, np.nan, inplace=True)\n",
    "    \n",
    "    \n",
    "    #drop all unnecessary columns up front\n",
    "    to_drop = ['AGER_TYP', 'GEBURTSJAHR', 'TITEL_KZ', 'ALTER_HH', 'KK_KUNDENTYP',\n",
    "               'KBA05_BAUMAX', 'LP_STATUS_FEIN', 'CAMEO_DEU_2015', 'CAMEO_DEUG_2015', \n",
    "               'CJT_GESAMTTYP', 'FINANZTYP', 'GFK_URLAUBERTYP', 'ZABEOTYP', 'GEBAEUDETYP',\n",
    "              'LP_FAMILIE_GROB', 'LP_STATUS_GROB', 'SHOPPER_TYP', 'LP_FAMILIE_FEIN']\n",
    "\n",
    "    \n",
    "    for col in to_drop:\n",
    "        df.drop(col, axis=1, inplace=True)\n",
    "\n",
    "    #calculate row and columns\n",
    "    rows, cols = df.shape\n",
    "    missing_per_row = df.isnull().sum(axis=1) / cols * 100.0\n",
    "    \n",
    "    #only keep rows with less missing data data\n",
    "    sub_idx = np.where(missing_per_row == 0)[0].tolist()\n",
    "    df_sub = df.copy().iloc[sub_idx, :]\n",
    "    \n",
    "    \n",
    "    #process OST_WEST_KZ column, then drop the categorical column\n",
    "    df_sub = pd.concat([df_sub, pd.get_dummies(df_sub['OST_WEST_KZ'], prefix = 'OST_WEST_KZ')], axis=1)\n",
    "    df_sub.drop('OST_WEST_KZ', axis=1, inplace=True)\n",
    "    \n",
    "    #get dummy variables for the rest of the categorical columns, leaving alone binary categorical columns\n",
    "    cat_dummies = ['NATIONALITAET_KZ']\n",
    "    \n",
    "    for col in cat_dummies:\n",
    "        df_sub = pd.concat([df_sub, pd.get_dummies(df_sub[col], prefix=col)], axis=1)\n",
    "        df_sub.drop(col, axis=1, inplace=True)\n",
    "    \n",
    "    \n",
    "    #now process mixed value columns\n",
    "    mix_cols = ['LP_LEBENSPHASE_FEIN', 'LP_LEBENSPHASE_GROB', 'PRAEGENDE_JUGENDJAHRE', \n",
    "                'WOHNLAGE', 'CAMEO_INTL_2015', 'PLZ8_BAUMAX']\n",
    "    \n",
    "    \n",
    "    decade_copy = df_sub['PRAEGENDE_JUGENDJAHRE'].copy()\n",
    "\n",
    "    #specify conditions\n",
    "    conditional_40 = decade_copy <= 2\n",
    "    conditional_50 = np.logical_and(decade_copy > 2, decade_copy <= 4)\n",
    "    conditional_60 = np.logical_and(decade_copy > 4, decade_copy <= 7)\n",
    "    conditional_70 = np.logical_and(decade_copy > 7, decade_copy <= 9)\n",
    "    conditional_80 = np.logical_and(decade_copy > 9, decade_copy <= 13)\n",
    "    conditional_90 = decade_copy > 13\n",
    "\n",
    "    decade_copy[conditional_40] = 40\n",
    "    decade_copy[conditional_50] = 50\n",
    "    decade_copy[conditional_60] = 60\n",
    "    decade_copy[conditional_70] = 70\n",
    "    decade_copy[conditional_80] = 80\n",
    "    decade_copy[conditional_90] = 90\n",
    "\n",
    "    #create new column here for decade\n",
    "    df_sub['PRAEGENDE_JUGENDJAHRE_decade'] = decade_copy\n",
    "\n",
    "    #mainstream and avantgarde values, from Data_Dictionary.md\n",
    "    main_idx = [1, 3, 5, 8, 10, 12, 14]\n",
    "    avant_idx = [2, 4, 6, 7, 9, 11, 13, 15]\n",
    "\n",
    "    movement = df_sub['PRAEGENDE_JUGENDJAHRE'].copy()\n",
    "\n",
    "    #let's encode the movement to be 1 if mainstream, 0 if avantgarde\n",
    "    move = []\n",
    "\n",
    "    for value in movement:\n",
    "        if value in main_idx:\n",
    "            move.append(1)\n",
    "        else:\n",
    "            move.append(0)\n",
    "\n",
    "    #create new column for movement\n",
    "    df_sub['PRAEGENDE_JUGENDJAHRE_move'] = move\n",
    "    \n",
    "        \n",
    "    #convert cameo_intl_2015 column into two columns\n",
    "    #one for the ten's place, the other for the one's place\n",
    "    df_sub['CAMEO_INTL_2015_tens'] = df_sub['CAMEO_INTL_2015'].copy().astype(int) // 10\n",
    "    df_sub['CAMEO_INTL_2015_ones'] = df_sub['CAMEO_INTL_2015'].copy().astype(int) % 10\n",
    "\n",
    "    \n",
    "    #get dummy variables for interesting mixed columns\n",
    "    mix_cols_keep = ['LP_LEBENSPHASE_GROB', 'WOHNLAGE']\n",
    "    \n",
    "    for col in mix_cols_keep:\n",
    "        df_sub = pd.concat([df_sub, pd.get_dummies(df_sub[col], prefix=col)], axis=1)\n",
    "\n",
    "    for col in mix_cols:\n",
    "        df_sub.drop(col, axis=1, inplace=True)\n",
    "    \n",
    "    #return the cleaned dataframe.\n",
    "    return df_sub"
   ]
  },
  {
   "cell_type": "code",
   "execution_count": 71,
   "metadata": {},
   "outputs": [
    {
     "name": "stdout",
     "output_type": "stream",
     "text": [
      "(623209, 88)\n"
     ]
    }
   ],
   "source": [
    "#let's test the function we wrote\n",
    "original = pd.read_csv('Udacity_AZDIAS_Subset.csv', delimiter=';')\n",
    "\n",
    "#clean the data\n",
    "processed = clean_data(original)\n",
    "\n",
    "#should have shape (623209, 88) to match our above processing steps\n",
    "print(processed.shape)"
   ]
  },
  {
   "cell_type": "markdown",
   "metadata": {},
   "source": [
    "Our data has the right shape, and has successfully been cleaned. We can now save this method to be used in the next Jupyter Notebook, `arvato_pca_clustering.ipynb`. We will see how Principal Component Analysis can be used to reduce the dimensionality of this large data set, and how clustering can then identify under- and overrepresented groups in our customer and demographic data."
   ]
  }
 ],
 "metadata": {
  "kernelspec": {
   "display_name": "Python 3",
   "language": "python",
   "name": "python3"
  },
  "language_info": {
   "codemirror_mode": {
    "name": "ipython",
    "version": 3
   },
   "file_extension": ".py",
   "mimetype": "text/x-python",
   "name": "python",
   "nbconvert_exporter": "python",
   "pygments_lexer": "ipython3",
   "version": "3.6.8"
  }
 },
 "nbformat": 4,
 "nbformat_minor": 2
}
