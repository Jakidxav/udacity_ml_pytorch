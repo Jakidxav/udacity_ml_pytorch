{
 "cells": [
  {
   "cell_type": "markdown",
   "metadata": {},
   "source": [
    "### Introduction\n",
    "This Notebook is the continuation of `arvato_data_cleaning.ipynb`, where I showed how the Arvato customer and demographic data will be cleaned. Here, we can use the `clean_data()` function we wrote in the last Notebook after importing it from our helper method file. \n",
    "\n",
    "After the data has been cleaned, we can use Principle Component Analysis as a means of dimensionality reduction before grouping our customers using KMeans clustering."
   ]
  },
  {
   "cell_type": "code",
   "execution_count": 1,
   "metadata": {},
   "outputs": [],
   "source": [
    "import numpy as np\n",
    "import pandas as pd\n",
    "\n",
    "import matplotlib.pyplot as plt\n",
    "%matplotlib inline\n",
    "import seaborn as sns\n",
    "\n",
    "from sklearn.preprocessing import Imputer\n",
    "from sklearn.preprocessing import StandardScaler\n",
    "from sklearn.decomposition import PCA\n",
    "from sklearn.cluster import KMeans\n",
    "\n",
    "from arvato_helper_methods import clean_data\n",
    "\n",
    "import pickle"
   ]
  },
  {
   "cell_type": "markdown",
   "metadata": {},
   "source": [
    "### Load and clean the data"
   ]
  },
  {
   "cell_type": "code",
   "execution_count": 2,
   "metadata": {},
   "outputs": [],
   "source": [
    "# Load in the general demographics data.\n",
    "azdias = pd.read_csv('Udacity_AZDIAS_Subset.csv', delimiter=';')\n",
    "\n",
    "# Load in the feature summary file.\n",
    "feat_info = pd.read_csv('AZDIAS_Feature_Summary.csv', delimiter=';')\n",
    "\n",
    "#open pickled list that contains missing values data for each column\n",
    "with open ('to_save.txt', 'rb') as file:\n",
    "    to_save = pickle.load(file)\n",
    "    \n",
    "#load in customer data\n",
    "customers = pd.read_csv('Udacity_CUSTOMERS_Subset.csv', sep=';')"
   ]
  },
  {
   "cell_type": "code",
   "execution_count": 3,
   "metadata": {},
   "outputs": [
    {
     "name": "stdout",
     "output_type": "stream",
     "text": [
      "(623209, 88)\n"
     ]
    }
   ],
   "source": [
    "#clean demographics data\n",
    "azdias_sub = clean_data(azdias, to_save)\n",
    "\n",
    "#should have shape (623209, 88) to match our above processing steps\n",
    "print(azdias_sub.shape)"
   ]
  },
  {
   "cell_type": "markdown",
   "metadata": {},
   "source": [
    "### Feature scaling\n",
    "\n",
    "scikit-learn's clustering methods require that we have no missing data. We took care of that in the pre-processing steps. However, we also need to scale our values so that one variable's variance doesn't affect how types customers get grouped together. Scikit-learn makes it easy to do that with the [StandardScaler](http://scikit-learn.org/stable/modules/generated/sklearn.preprocessing.StandardScaler.html) package. This scales each feature to mean 0 and standard deviation 1."
   ]
  },
  {
   "cell_type": "code",
   "execution_count": 72,
   "metadata": {},
   "outputs": [],
   "source": [
    "# Apply feature scaling to the general population demographics data.\n",
    "scaler = StandardScaler()\n",
    "\n",
    "#fit and transform the data in one step\n",
    "#now we move from a dataframe to a numpy array\n",
    "scaled = pd.DataFrame(scaler.fit_transform(azdias_sub), columns=azdias_sub.columns, index=azdias_sub.index)"
   ]
  },
  {
   "cell_type": "code",
   "execution_count": 73,
   "metadata": {},
   "outputs": [
    {
     "data": {
      "text/html": [
       "<div>\n",
       "<style scoped>\n",
       "    .dataframe tbody tr th:only-of-type {\n",
       "        vertical-align: middle;\n",
       "    }\n",
       "\n",
       "    .dataframe tbody tr th {\n",
       "        vertical-align: top;\n",
       "    }\n",
       "\n",
       "    .dataframe thead th {\n",
       "        text-align: right;\n",
       "    }\n",
       "</style>\n",
       "<table border=\"1\" class=\"dataframe\">\n",
       "  <thead>\n",
       "    <tr style=\"text-align: right;\">\n",
       "      <th></th>\n",
       "      <th>ALTERSKATEGORIE_GROB</th>\n",
       "      <th>ANREDE_KZ</th>\n",
       "      <th>FINANZ_MINIMALIST</th>\n",
       "      <th>FINANZ_SPARER</th>\n",
       "      <th>FINANZ_VORSORGER</th>\n",
       "      <th>FINANZ_ANLEGER</th>\n",
       "      <th>FINANZ_UNAUFFAELLIGER</th>\n",
       "      <th>FINANZ_HAUSBAUER</th>\n",
       "      <th>GREEN_AVANTGARDE</th>\n",
       "      <th>HEALTH_TYP</th>\n",
       "      <th>...</th>\n",
       "      <th>LP_LEBENSPHASE_GROB_11.0</th>\n",
       "      <th>LP_LEBENSPHASE_GROB_12.0</th>\n",
       "      <th>WOHNLAGE_0.0</th>\n",
       "      <th>WOHNLAGE_1.0</th>\n",
       "      <th>WOHNLAGE_2.0</th>\n",
       "      <th>WOHNLAGE_3.0</th>\n",
       "      <th>WOHNLAGE_4.0</th>\n",
       "      <th>WOHNLAGE_5.0</th>\n",
       "      <th>WOHNLAGE_7.0</th>\n",
       "      <th>WOHNLAGE_8.0</th>\n",
       "    </tr>\n",
       "  </thead>\n",
       "  <tbody>\n",
       "    <tr>\n",
       "      <th>1</th>\n",
       "      <td>-1.746291</td>\n",
       "      <td>0.977825</td>\n",
       "      <td>-1.512224</td>\n",
       "      <td>1.581058</td>\n",
       "      <td>-1.045042</td>\n",
       "      <td>1.539058</td>\n",
       "      <td>1.047073</td>\n",
       "      <td>1.340482</td>\n",
       "      <td>-0.553670</td>\n",
       "      <td>1.044647</td>\n",
       "      <td>...</td>\n",
       "      <td>-0.206656</td>\n",
       "      <td>-0.32394</td>\n",
       "      <td>-0.002533</td>\n",
       "      <td>-0.249828</td>\n",
       "      <td>-0.383618</td>\n",
       "      <td>-0.698947</td>\n",
       "      <td>2.171272</td>\n",
       "      <td>-0.314560</td>\n",
       "      <td>-0.518556</td>\n",
       "      <td>-0.088756</td>\n",
       "    </tr>\n",
       "    <tr>\n",
       "      <th>2</th>\n",
       "      <td>0.202107</td>\n",
       "      <td>0.977825</td>\n",
       "      <td>-1.512224</td>\n",
       "      <td>0.900443</td>\n",
       "      <td>-1.765051</td>\n",
       "      <td>-0.531628</td>\n",
       "      <td>0.318373</td>\n",
       "      <td>1.340482</td>\n",
       "      <td>1.806129</td>\n",
       "      <td>1.044647</td>\n",
       "      <td>...</td>\n",
       "      <td>-0.206656</td>\n",
       "      <td>-0.32394</td>\n",
       "      <td>-0.002533</td>\n",
       "      <td>-0.249828</td>\n",
       "      <td>2.606756</td>\n",
       "      <td>-0.698947</td>\n",
       "      <td>-0.460560</td>\n",
       "      <td>-0.314560</td>\n",
       "      <td>-0.518556</td>\n",
       "      <td>-0.088756</td>\n",
       "    </tr>\n",
       "    <tr>\n",
       "      <th>4</th>\n",
       "      <td>0.202107</td>\n",
       "      <td>-1.022678</td>\n",
       "      <td>0.692406</td>\n",
       "      <td>0.219828</td>\n",
       "      <td>0.394976</td>\n",
       "      <td>-1.221857</td>\n",
       "      <td>0.318373</td>\n",
       "      <td>-0.856545</td>\n",
       "      <td>-0.553670</td>\n",
       "      <td>1.044647</td>\n",
       "      <td>...</td>\n",
       "      <td>-0.206656</td>\n",
       "      <td>-0.32394</td>\n",
       "      <td>-0.002533</td>\n",
       "      <td>-0.249828</td>\n",
       "      <td>-0.383618</td>\n",
       "      <td>1.430724</td>\n",
       "      <td>-0.460560</td>\n",
       "      <td>-0.314560</td>\n",
       "      <td>-0.518556</td>\n",
       "      <td>-0.088756</td>\n",
       "    </tr>\n",
       "    <tr>\n",
       "      <th>5</th>\n",
       "      <td>-1.746291</td>\n",
       "      <td>0.977825</td>\n",
       "      <td>-0.042471</td>\n",
       "      <td>-1.141401</td>\n",
       "      <td>1.114984</td>\n",
       "      <td>-0.531628</td>\n",
       "      <td>-0.410328</td>\n",
       "      <td>1.340482</td>\n",
       "      <td>-0.553670</td>\n",
       "      <td>1.044647</td>\n",
       "      <td>...</td>\n",
       "      <td>-0.206656</td>\n",
       "      <td>-0.32394</td>\n",
       "      <td>-0.002533</td>\n",
       "      <td>-0.249828</td>\n",
       "      <td>-0.383618</td>\n",
       "      <td>-0.698947</td>\n",
       "      <td>-0.460560</td>\n",
       "      <td>-0.314560</td>\n",
       "      <td>1.928432</td>\n",
       "      <td>-0.088756</td>\n",
       "    </tr>\n",
       "    <tr>\n",
       "      <th>6</th>\n",
       "      <td>-0.772092</td>\n",
       "      <td>0.977825</td>\n",
       "      <td>-1.512224</td>\n",
       "      <td>1.581058</td>\n",
       "      <td>-1.765051</td>\n",
       "      <td>1.539058</td>\n",
       "      <td>1.047073</td>\n",
       "      <td>-0.124203</td>\n",
       "      <td>-0.553670</td>\n",
       "      <td>-0.273496</td>\n",
       "      <td>...</td>\n",
       "      <td>-0.206656</td>\n",
       "      <td>-0.32394</td>\n",
       "      <td>-0.002533</td>\n",
       "      <td>-0.249828</td>\n",
       "      <td>-0.383618</td>\n",
       "      <td>-0.698947</td>\n",
       "      <td>-0.460560</td>\n",
       "      <td>3.179044</td>\n",
       "      <td>-0.518556</td>\n",
       "      <td>-0.088756</td>\n",
       "    </tr>\n",
       "  </tbody>\n",
       "</table>\n",
       "<p>5 rows × 88 columns</p>\n",
       "</div>"
      ],
      "text/plain": [
       "   ALTERSKATEGORIE_GROB  ANREDE_KZ  FINANZ_MINIMALIST  FINANZ_SPARER  \\\n",
       "1             -1.746291   0.977825          -1.512224       1.581058   \n",
       "2              0.202107   0.977825          -1.512224       0.900443   \n",
       "4              0.202107  -1.022678           0.692406       0.219828   \n",
       "5             -1.746291   0.977825          -0.042471      -1.141401   \n",
       "6             -0.772092   0.977825          -1.512224       1.581058   \n",
       "\n",
       "   FINANZ_VORSORGER  FINANZ_ANLEGER  FINANZ_UNAUFFAELLIGER  FINANZ_HAUSBAUER  \\\n",
       "1         -1.045042        1.539058               1.047073          1.340482   \n",
       "2         -1.765051       -0.531628               0.318373          1.340482   \n",
       "4          0.394976       -1.221857               0.318373         -0.856545   \n",
       "5          1.114984       -0.531628              -0.410328          1.340482   \n",
       "6         -1.765051        1.539058               1.047073         -0.124203   \n",
       "\n",
       "   GREEN_AVANTGARDE  HEALTH_TYP      ...       LP_LEBENSPHASE_GROB_11.0  \\\n",
       "1         -0.553670    1.044647      ...                      -0.206656   \n",
       "2          1.806129    1.044647      ...                      -0.206656   \n",
       "4         -0.553670    1.044647      ...                      -0.206656   \n",
       "5         -0.553670    1.044647      ...                      -0.206656   \n",
       "6         -0.553670   -0.273496      ...                      -0.206656   \n",
       "\n",
       "   LP_LEBENSPHASE_GROB_12.0  WOHNLAGE_0.0  WOHNLAGE_1.0  WOHNLAGE_2.0  \\\n",
       "1                  -0.32394     -0.002533     -0.249828     -0.383618   \n",
       "2                  -0.32394     -0.002533     -0.249828      2.606756   \n",
       "4                  -0.32394     -0.002533     -0.249828     -0.383618   \n",
       "5                  -0.32394     -0.002533     -0.249828     -0.383618   \n",
       "6                  -0.32394     -0.002533     -0.249828     -0.383618   \n",
       "\n",
       "   WOHNLAGE_3.0  WOHNLAGE_4.0  WOHNLAGE_5.0  WOHNLAGE_7.0  WOHNLAGE_8.0  \n",
       "1     -0.698947      2.171272     -0.314560     -0.518556     -0.088756  \n",
       "2     -0.698947     -0.460560     -0.314560     -0.518556     -0.088756  \n",
       "4      1.430724     -0.460560     -0.314560     -0.518556     -0.088756  \n",
       "5     -0.698947     -0.460560     -0.314560      1.928432     -0.088756  \n",
       "6     -0.698947     -0.460560      3.179044     -0.518556     -0.088756  \n",
       "\n",
       "[5 rows x 88 columns]"
      ]
     },
     "execution_count": 73,
     "metadata": {},
     "output_type": "execute_result"
    }
   ],
   "source": [
    "#let's look at what the scaling did\n",
    "scaled.head()"
   ]
  },
  {
   "cell_type": "markdown",
   "metadata": {},
   "source": [
    "Since I didn't have any missing data (see the above step on only keeping rows without any missing data), I went ahead and scaled my data. Even when using only rows with no missing values, I still have 75% of my data left (before adding dummy variables or engineered features)."
   ]
  },
  {
   "cell_type": "markdown",
   "metadata": {},
   "source": [
    "### Dimensionality Reduction\n",
    "\n",
    "Now we can perform PCA on our scaled data to see if there are any variables that explain some amount of shared variance (meaning that they contribute nothing extra to our analysis). If this is the case, we can drop them and save compute resources."
   ]
  },
  {
   "cell_type": "code",
   "execution_count": 74,
   "metadata": {},
   "outputs": [
    {
     "name": "stdout",
     "output_type": "stream",
     "text": [
      "[ 0.13922643  0.10764592  0.07106963  0.04434399  0.03161276]\n"
     ]
    }
   ],
   "source": [
    "# Apply PCA to the data.\n",
    "pca = PCA()\n",
    "\n",
    "#fit and transform the data here, create principal components\n",
    "pcs = pca.fit_transform(scaled)\n",
    "\n",
    "#print the explained variance ratio of the first five principal components\n",
    "var_ratio = pca.explained_variance_ratio_\n",
    "cumulative_var = np.cumsum(pca.explained_variance_ratio_)\n",
    "\n",
    "print(var_ratio[:5])"
   ]
  },
  {
   "cell_type": "code",
   "execution_count": 75,
   "metadata": {},
   "outputs": [],
   "source": [
    "#find the index where we cross 90% variance explained\n",
    "#the first [0] moves from array to list object, the second isolates the first index\n",
    "idx_90 = np.where(cumulative_var > 0.90)[0][0]\n",
    "\n",
    "#or 95% variance explained\n",
    "idx_95 = np.where(cumulative_var > 0.95)[0][0]"
   ]
  },
  {
   "cell_type": "code",
   "execution_count": 78,
   "metadata": {},
   "outputs": [
    {
     "name": "stdout",
     "output_type": "stream",
     "text": [
      "If we wanted to retain 90% of the variance explained, we would need to keep 46 PCs.\n",
      "If we wanted to retain 95% of the variance explained, we would need to keep 57 PCs.\n"
     ]
    }
   ],
   "source": [
    "print('If we wanted to retain 90% of the variance explained, we would need to keep {} PCs.'.format(idx_90+1))\n",
    "print('If we wanted to retain 95% of the variance explained, we would need to keep {} PCs.'.format(idx_95+1))"
   ]
  },
  {
   "cell_type": "code",
   "execution_count": 80,
   "metadata": {},
   "outputs": [
    {
     "data": {
      "image/png": "[encoded data removed]",
      "text/plain": [
       "<matplotlib.figure.Figure at 0x7fd229c48518>"
      ]
     },
     "metadata": {
      "needs_background": "light"
     },
     "output_type": "display_data"
    }
   ],
   "source": [
    "# Investigate the variance accounted for by each principal component.\n",
    "fig, ax = plt.subplots(1, 2, figsize=(15, 7))\n",
    "\n",
    "ax[0].plot(var_ratio)\n",
    "ax[1].plot(cumulative_var)\n",
    "\n",
    "ax[0].set_xlabel('Principal Component #')\n",
    "ax[0].set_ylabel('Ratio of Explained Variance')\n",
    "ax[0].set_title('Ratio of Explained Variance Per Principal Component')\n",
    "\n",
    "ax[1].set_xlabel('Principal Component #')\n",
    "ax[1].set_ylabel('Cumulative Explained Variance')\n",
    "ax[1].set_title('Cumulative Explained Variance Across Principal Components')\n",
    "\n",
    "#show where the number of pcs crosses a certain level of cumulative variance\n",
    "ax[1].axhline(y=0.90, linestyle='--', color='r')\n",
    "ax[1].axvline(x=46, linestyle='--', color='r')\n",
    "\n",
    "ax[1].axhline(y=0.95, linestyle='--', color='g')\n",
    "ax[1].axvline(x=57, linestyle='--', color='g')\n",
    "\n",
    "plt.show()"
   ]
  },
  {
   "cell_type": "code",
   "execution_count": 81,
   "metadata": {},
   "outputs": [],
   "source": [
    "# Re-apply PCA to the data while selecting for number of components to retain.\n",
    "pca = PCA(n_components=57)\n",
    "\n",
    "#fit and transform the data here, create principal components\n",
    "pcs = pca.fit_transform(scaled)\n",
    "\n",
    "#print the explained variance ratio of the first five principal components\n",
    "var_ratio = pca.explained_variance_ratio_\n",
    "cumulative_var = np.cumsum(pca.explained_variance_ratio_)"
   ]
  },
  {
   "cell_type": "code",
   "execution_count": 82,
   "metadata": {},
   "outputs": [
    {
     "name": "stdout",
     "output_type": "stream",
     "text": [
      "(623209, 57)\n"
     ]
    }
   ],
   "source": [
    "print(pcs.shape)"
   ]
  },
  {
   "cell_type": "markdown",
   "metadata": {},
   "source": [
    "The Principal Components do not explain as much variance as we would like early on. It would be ideal if the first PC explained greater than 50% of the variance, but we don't reach that level until we keep around 30 components. Still, we can reduce the data set by almost half while still maintaining 95% of the explained variance. I could have chosen to keep 90% of the variance with 12 less features (as compared to the 95% case), but 12 extra features will not slow down our performance by that much. So it is better to keep the extra 5% of variance."
   ]
  },
  {
   "cell_type": "code",
   "execution_count": 83,
   "metadata": {},
   "outputs": [],
   "source": [
    "#input an index for the principal components and the pca.components_ list\n",
    "#output a list of sorted weights for the pc at index idx\n",
    "def pca_weights_to_features(idx, weights):\n",
    "    \n",
    "    #extract number of pcs, and columns from original data set\n",
    "    pcs, cols = weights.shape\n",
    "    \n",
    "    #make sure that the index is in the number of pcs\n",
    "    if idx not in range(pcs):\n",
    "        raise ValueError('Please enter an index from 0 to {}'.format(pcs))\n",
    "    \n",
    "    #extract the weights for the pc at index idx to analyze\n",
    "    pc_weights = weights[idx]\n",
    "    \n",
    "    #sort the feature weights\n",
    "    feature_weights = sorted(pc_weights)\n",
    "    \n",
    "    \n",
    "    #now create feature weight indices corresponding to column names in original data\n",
    "    feature_idx = []\n",
    "    for weight in feature_weights:\n",
    "        weight_idx = np.where(pc_weights==weight)[0][0]\n",
    "        feature_idx.append(weight_idx)\n",
    "        \n",
    "    #round the feature weights to 4 decimal places for readability\n",
    "    feature_weights = np.round(feature_weights, 4)\n",
    "    \n",
    "    #return sorted weights and indices\n",
    "    return feature_weights, feature_idx"
   ]
  },
  {
   "cell_type": "code",
   "execution_count": 84,
   "metadata": {},
   "outputs": [],
   "source": [
    "#report the first and last 3 weights for PC and index i\n",
    "#do the same thing for the corresponding feature names\n",
    "def report_weights_and_cols(weights, indices, idx):\n",
    "    \n",
    "    #get first and last 3 columns which correspond the most highly with PC1\n",
    "    first_cols = list(columns[indices[:3]])\n",
    "    last_cols = list(columns[indices[-3:]])\n",
    "\n",
    "    #print the first and last 3 weights and indices for pc1\n",
    "    print('The first 3 weights for PC{} are: {}'.format(idx+1, weights[:3]))\n",
    "    print('These correspond to the columns {}'.format(first_cols), '\\n')\n",
    "\n",
    "    print('The last 3 weights for PC{} are: {}'.format(idx+1, weights[-3:]))\n",
    "    print('These correspond to the columns {}'.format(last_cols), '\\n')"
   ]
  },
  {
   "cell_type": "code",
   "execution_count": 85,
   "metadata": {},
   "outputs": [
    {
     "name": "stdout",
     "output_type": "stream",
     "text": [
      "The first 3 weights for PC1 are: [-0.2219 -0.2157 -0.2081]\n",
      "These correspond to the columns ['MOBI_REGIO', 'FINANZ_MINIMALIST', 'KBA05_ANTG1'] \n",
      "\n",
      "The last 3 weights for PC1 are: [ 0.1884  0.1964  0.2026]\n",
      "These correspond to the columns ['HH_EINKOMMEN_SCORE', 'PLZ8_ANTG4', 'PLZ8_ANTG3'] \n",
      "\n"
     ]
    }
   ],
   "source": [
    "# Map weights for the first principal component to corresponding feature names\n",
    "# and then print the linked values, sorted by weight.\n",
    "weights1, indices1 = pca_weights_to_features(0, pca.components_)\n",
    "\n",
    "report_weights_and_cols(weights1, indices1, 0)"
   ]
  },
  {
   "cell_type": "code",
   "execution_count": 86,
   "metadata": {},
   "outputs": [
    {
     "name": "stdout",
     "output_type": "stream",
     "text": [
      "The first 3 weights for PC2 are: [-0.2372 -0.2346 -0.2188]\n",
      "These correspond to the columns ['SEMIO_REL', 'PRAEGENDE_JUGENDJAHRE_decade', 'SEMIO_PFLICHT'] \n",
      "\n",
      "The last 3 weights for PC2 are: [ 0.2069  0.2121  0.2385]\n",
      "These correspond to the columns ['SEMIO_ERL', 'FINANZ_VORSORGER', 'ALTERSKATEGORIE_GROB'] \n",
      "\n"
     ]
    }
   ],
   "source": [
    "# Map weights for the second principal component to corresponding feature names\n",
    "# and then print the linked values, sorted by weight.\n",
    "weights2, indices2 = pca_weights_to_features(1, pca.components_)\n",
    "\n",
    "report_weights_and_cols(weights2, indices2, 1)"
   ]
  },
  {
   "cell_type": "code",
   "execution_count": 87,
   "metadata": {},
   "outputs": [
    {
     "name": "stdout",
     "output_type": "stream",
     "text": [
      "The first 3 weights for PC3 are: [-0.3702 -0.3401 -0.3123]\n",
      "These correspond to the columns ['ANREDE_KZ', 'SEMIO_KAEM', 'SEMIO_DOM'] \n",
      "\n",
      "The last 3 weights for PC3 are: [ 0.2626  0.2686  0.3487]\n",
      "These correspond to the columns ['SEMIO_FAM', 'SEMIO_SOZ', 'SEMIO_VERT'] \n",
      "\n"
     ]
    }
   ],
   "source": [
    "# Map weights for the third principal component to corresponding feature names\n",
    "# and then print the linked values, sorted by weight.\n",
    "weights3, indices3 = pca_weights_to_features(2, pca.components_)\n",
    "\n",
    "report_weights_and_cols(weights3, indices3, 2)"
   ]
  },
  {
   "cell_type": "markdown",
   "metadata": {},
   "source": [
    "### Interpreting our Principle Components\n",
    "I looked up what the corresponding columns for each Principal Component were:\n",
    "- PC1: <br>\n",
    "    positive: movement patterns, financial typology, num 1-2 family houses in microcell\n",
    "\n",
    "    negative: num 10+ family houses in region, num 6-10 family houses in region, social status (as income earners)\n",
    "\n",
    "\n",
    "- PC2: <br>\n",
    "    positive: personality typology, decade from, financial typology (how they spend or invest money)\n",
    "\n",
    "    negative: financial typology (how they spend or invest money), personality typology, estimated age based on given name\n",
    "\n",
    "\n",
    "- PC3: <br>\n",
    "    positive: gender, personality typology, personality typology\n",
    "\n",
    "    negative: personality typology, personality typology, personality typology\n",
    "    \n",
    " \n",
    "PC1 seems to contain information on location, the number of people in houses in a specific place, and financial status. PC2 contains information on age, personality type, and financial status. PC3 contains information based on gender and personality type, although personality type is found in both the positive and negative feature weights. \n",
    "\n",
    "Because we condensed the number of features to that of nearly half the amount before doing PCA, there is bound to be some information that gets spread over multiple Principal Components. However, each of the first 3 PCs are picking up on different things and no two columns are repeated between them. And because of their orthogonality in space, we can be sure that they are predicting different things."
   ]
  },
  {
   "cell_type": "markdown",
   "metadata": {},
   "source": [
    "### Clustering"
   ]
  },
  {
   "cell_type": "code",
   "execution_count": 88,
   "metadata": {},
   "outputs": [],
   "source": [
    "# Over a number of different cluster counts...\n",
    "clusters = 30\n",
    "scores = []\n",
    "\n",
    "for c in range(clusters):\n",
    "    # run k-means clustering on the data and...\n",
    "    kmeans = KMeans(n_clusters=c+1)\n",
    "    \n",
    "    #pass in principle component fit-transform data\n",
    "    kmeans.fit(pcs)\n",
    "    \n",
    "    # compute the average within-cluster distances.\n",
    "    dist_score = kmeans.score(pcs)\n",
    "    \n",
    "    scores.append(dist_score)"
   ]
  },
  {
   "cell_type": "code",
   "execution_count": 89,
   "metadata": {},
   "outputs": [],
   "source": [
    "#save the scores so that we don't have to run the loop again\n",
    "#np.save('scores.npy', np.array(scores))\n",
    "scores = np.load('scores.npy')"
   ]
  },
  {
   "cell_type": "code",
   "execution_count": 90,
   "metadata": {},
   "outputs": [
    {
     "data": {
      "image/png": "[encoded data removed]",
      "text/plain": [
       "<matplotlib.figure.Figure at 0x7fd229e41cc0>"
      ]
     },
     "metadata": {
      "needs_background": "light"
     },
     "output_type": "display_data"
    }
   ],
   "source": [
    "# Investigate the change in within-cluster distance across number of clusters.\n",
    "# HINT: Use matplotlib's plot function to visualize this relationship.\n",
    "fig, ax = plt.subplots(figsize=(15, 7))\n",
    "\n",
    "ax.plot(scores, marker='o')\n",
    "\n",
    "#reset x-ticks and labels to represent each cluster used\n",
    "ax.set_xticks(range(30))\n",
    "ax.set_xticklabels(range(1, 31))\n",
    "\n",
    "ax.axvline(x=19, linestyle='--', color='r')\n",
    "\n",
    "#set axis labels and title\n",
    "ax.set_xlabel('# of Clusters')\n",
    "ax.set_ylabel('KMeans Scoring Metric')\n",
    "ax.set_title('Number of Clusters vs Distance Score Plot')\n",
    "\n",
    "plt.show()"
   ]
  },
  {
   "cell_type": "code",
   "execution_count": 91,
   "metadata": {},
   "outputs": [],
   "source": [
    "#create rate of change list\n",
    "score_change = []\n",
    "\n",
    "for i, element in enumerate(scores):\n",
    "    if i == 0:\n",
    "        score_change.append(0)\n",
    "    else:\n",
    "        score_change.append(np.round((scores[i-1] - scores[i]), 2))\n",
    "        \n",
    "#replace the first score change in the list to the second\n",
    "#this makes sure that we aren't reporting \"no change\", which will skew plot\n",
    "score_change[0] = score_change[1]"
   ]
  },
  {
   "cell_type": "code",
   "execution_count": 92,
   "metadata": {},
   "outputs": [
    {
     "data": {
      "image/png": "[encoded data removed]",
      "text/plain": [
       "<matplotlib.figure.Figure at 0x7fd229f1f160>"
      ]
     },
     "metadata": {
      "needs_background": "light"
     },
     "output_type": "display_data"
    }
   ],
   "source": [
    "fig, ax = plt.subplots(figsize=(15, 7))\n",
    "\n",
    "ax.plot(score_change)\n",
    "\n",
    "#reset x-ticks and labels to represent each cluster used\n",
    "ax.set_xticks(range(30))\n",
    "ax.set_xticklabels(range(1, 31))\n",
    "\n",
    "#16 clusters, changed xticks to offset of 1\n",
    "ax.axvline(x=19, linestyle='--', color='r')\n",
    "\n",
    "\n",
    "#set axis labels and title\n",
    "ax.set_xlabel('# of Clusters')\n",
    "ax.set_ylabel('Rate of Change in Score')\n",
    "ax.set_title('Change in Distance Score Across Clusters')\n",
    "\n",
    "plt.show()"
   ]
  },
  {
   "cell_type": "code",
   "execution_count": 93,
   "metadata": {},
   "outputs": [],
   "source": [
    "# Re-fit the k-means model with the selected number of clusters and obtain\n",
    "# cluster predictions for the general population demographics data.\n",
    "num_clusters = 20\n",
    "kmeans = KMeans(n_clusters=num_clusters)\n",
    "\n",
    "preds_demo = kmeans.fit_predict(pcs)\n",
    "\n",
    "#save cluster centers and cluster labels\n",
    "cluster_centers_demo = kmeans.cluster_centers_\n",
    "cluster_labels_demo = kmeans.labels_"
   ]
  },
  {
   "cell_type": "markdown",
   "metadata": {},
   "source": [
    "We can see based on the KMeans score plot and the rate of score change plot that after about cluster 20, the gains for each additional cluster we add drops off. While there is still marginal improvement up to cluster 30, we can dramatically speed up our clustering by using only 20. Here, it is a balance between increasing our score and increasing our performance."
   ]
  },
  {
   "cell_type": "markdown",
   "metadata": {},
   "source": [
    "### Now we can do the same thing for the customer data"
   ]
  },
  {
   "cell_type": "code",
   "execution_count": 96,
   "metadata": {},
   "outputs": [
    {
     "name": "stdout",
     "output_type": "stream",
     "text": [
      "8\n"
     ]
    }
   ],
   "source": [
    "#total number of values possible in each column\n",
    "total = customers.shape[0]\n",
    "\n",
    "#now let's look at how many missing values there are per column\n",
    "#as a percentage of the total dataset\n",
    "missing_per_column2 = customers.isnull().sum() / total * 100.0\n",
    "\n",
    "#and pring out the columns\n",
    "print(sum(missing_per_column2 > 30))"
   ]
  },
  {
   "cell_type": "markdown",
   "metadata": {},
   "source": [
    "So there aren't that many more columns in the customer subset than in the demographic subset that are missing significant portions of their data."
   ]
  },
  {
   "cell_type": "code",
   "execution_count": 97,
   "metadata": {},
   "outputs": [],
   "source": [
    "# Apply preprocessing, feature transformation, and clustering from the general\n",
    "# demographics onto the customer data, obtaining cluster predictions for the\n",
    "# customer demographics data.\n",
    "#clean the data\n",
    "customers_sub = clean_data(customers)"
   ]
  },
  {
   "cell_type": "code",
   "execution_count": 98,
   "metadata": {},
   "outputs": [
    {
     "name": "stdout",
     "output_type": "stream",
     "text": [
      "(115643, 87)\n"
     ]
    }
   ],
   "source": [
    "print(customers_sub.shape)"
   ]
  },
  {
   "cell_type": "code",
   "execution_count": 99,
   "metadata": {},
   "outputs": [],
   "source": [
    "#now ensure that the data have the same columns for scaler object\n",
    "set_demo = set(azdias_sub.columns)\n",
    "set_custom = set(customers_sub.columns)\n",
    "set_diff = set_demo - set_custom\n",
    "\n",
    "for column in set_diff:\n",
    "    customers_sub[column] = 0\n",
    "\n",
    "#scale the cleaned data\n",
    "customers_scaled = pd.DataFrame(scaler.transform(customers_sub), columns=customers_sub.columns, index=customers_sub.index)\n",
    "\n",
    "#pca\n",
    "pca_customers = pca.transform(customers_scaled)"
   ]
  },
  {
   "cell_type": "code",
   "execution_count": 102,
   "metadata": {},
   "outputs": [
    {
     "name": "stdout",
     "output_type": "stream",
     "text": [
      "(115643, 88)\n"
     ]
    }
   ],
   "source": [
    "print(customers_sub.shape)"
   ]
  },
  {
   "cell_type": "code",
   "execution_count": 103,
   "metadata": {},
   "outputs": [],
   "source": [
    "#cluster the data\n",
    "preds_custom = kmeans.predict(pca_customers)\n",
    "\n",
    "#save cluster centers and cluster labels\n",
    "cluster_labels_custom = kmeans.labels_"
   ]
  },
  {
   "cell_type": "markdown",
   "metadata": {},
   "source": [
    "### Compare customer data to demographics data"
   ]
  },
  {
   "cell_type": "code",
   "execution_count": 116,
   "metadata": {},
   "outputs": [],
   "source": [
    "# Compare the proportion of data in each cluster for the customer data to the\n",
    "# proportion of data in each cluster for the general population.\n",
    "demographic = []\n",
    "customer = []\n",
    "\n",
    "len_demo = len(azdias)\n",
    "len_cust = len(customers)\n",
    "\n",
    "for cluster in range(num_clusters):\n",
    "    demographic.append(np.sum(preds_demo==cluster)/len_demo)\n",
    "    customer.append(np.sum(preds_custom==cluster)/len_cust)"
   ]
  },
  {
   "cell_type": "code",
   "execution_count": 119,
   "metadata": {},
   "outputs": [
    {
     "data": {
      "image/png": "[encoded data removed]",
      "text/plain": [
       "<matplotlib.figure.Figure at 0x7fd22a07b198>"
      ]
     },
     "metadata": {
      "needs_background": "light"
     },
     "output_type": "display_data"
    }
   ],
   "source": [
    "fig, ax = plt.subplots(2, 1, figsize=(10, 10))\n",
    "\n",
    "xticks = range(0, 20)\n",
    "\n",
    "ax[0].bar(xticks, height=demographic, label='demographic')\n",
    "ax[1].bar(xticks, height=customer, label='customer', color='g')\n",
    "\n",
    "#reset xtick marks and labels\n",
    "ax[0].set_xticks(xticks)\n",
    "ax[0].set_xticklabels(range(1, 21))\n",
    "ax[1].set_xticks(xticks)\n",
    "ax[1].set_xticklabels(range(1, 21))\n",
    "\n",
    "#to match subplot 2's y limits\n",
    "ax[0].set_ylim([0,0.15])\n",
    "ax[1].set_ylim([0,0.25])\n",
    "\n",
    "ax[1].set_xlabel('Cluster #')\n",
    "ax[0].legend()\n",
    "ax[1].legend()\n",
    "\n",
    "plt.show()"
   ]
  },
  {
   "cell_type": "code",
   "execution_count": 136,
   "metadata": {},
   "outputs": [],
   "source": [
    "# What kinds of people are part of a cluster that is overrepresented in the\n",
    "# customer data compared to the general population?\n",
    "#clusters 2, 9, and 13 stand out in the customer data\n",
    "#let's look at number 13\n",
    "cluster_centers = kmeans.cluster_centers_\n",
    "\n",
    "#inverse transform the data\n",
    "data = scaler.inverse_transform(pca.inverse_transform(cluster_centers))\n",
    "\n",
    "#create data frame for inspection\n",
    "df = pd.DataFrame(data, index=range(num_clusters), columns=customers_sub.columns)"
   ]
  },
  {
   "cell_type": "code",
   "execution_count": 148,
   "metadata": {},
   "outputs": [],
   "source": [
    "#subset for the 13th row\n",
    "df13 = df.iloc[13].round()"
   ]
  },
  {
   "cell_type": "code",
   "execution_count": 149,
   "metadata": {},
   "outputs": [
    {
     "name": "stdout",
     "output_type": "stream",
     "text": [
      "ALTERSKATEGORIE_GROB               3.0\n",
      "ANREDE_KZ                          1.0\n",
      "FINANZ_MINIMALIST                  4.0\n",
      "FINANZ_SPARER                      2.0\n",
      "FINANZ_VORSORGER                   4.0\n",
      "FINANZ_ANLEGER                     2.0\n",
      "FINANZ_UNAUFFAELLIGER              2.0\n",
      "FINANZ_HAUSBAUER                   3.0\n",
      "GREEN_AVANTGARDE                   1.0\n",
      "HEALTH_TYP                         2.0\n",
      "RETOURTYP_BK_S                     4.0\n",
      "SEMIO_SOZ                          4.0\n",
      "SEMIO_FAM                          4.0\n",
      "SEMIO_REL                          3.0\n",
      "SEMIO_MAT                          4.0\n",
      "SEMIO_VERT                         5.0\n",
      "SEMIO_LUST                         5.0\n",
      "SEMIO_ERL                          5.0\n",
      "SEMIO_KULT                         4.0\n",
      "SEMIO_RAT                          3.0\n",
      "SEMIO_KRIT                         4.0\n",
      "SEMIO_DOM                          5.0\n",
      "SEMIO_KAEM                         4.0\n",
      "SEMIO_PFLICHT                      4.0\n",
      "SEMIO_TRADV                        3.0\n",
      "VERS_TYP                           2.0\n",
      "ANZ_PERSONEN                       2.0\n",
      "ANZ_TITEL                          1.0\n",
      "HH_EINKOMMEN_SCORE                 3.0\n",
      "W_KEIT_KIND_HH                     4.0\n",
      "                                 ...  \n",
      "ANZ_HAUSHALTE_AKTIV                7.0\n",
      "ANZ_HH_TITEL                       1.0\n",
      "KONSUMNAEHE                        2.0\n",
      "MIN_GEBAEUDEJAHR                1992.0\n",
      "KBA05_ANTG1                        2.0\n",
      "KBA05_ANTG2                        1.0\n",
      "KBA05_GBZ                          3.0\n",
      "BALLRAUM                           4.0\n",
      "EWDICHTE                           4.0\n",
      "INNENSTADT                         4.0\n",
      "GEBAEUDETYP_RASTER                 3.0\n",
      "KKK                                2.0\n",
      "MOBI_REGIO                         3.0\n",
      "ONLINE_AFFINITAET                  3.0\n",
      "REGIOTYP                           4.0\n",
      "KBA13_ANZAHL_PKW                 615.0\n",
      "PLZ8_ANTG1                         2.0\n",
      "PLZ8_ANTG2                         3.0\n",
      "PLZ8_ANTG3                         2.0\n",
      "PLZ8_ANTG4                         1.0\n",
      "PLZ8_HHZ                           4.0\n",
      "PLZ8_GBZ                           3.0\n",
      "ARBEIT                             3.0\n",
      "ORTSGR_KLS9                        6.0\n",
      "RELAT_AB                           3.0\n",
      "OST_WEST_KZ_W                      1.0\n",
      "NATIONALITAET_KZ_1.0               1.0\n",
      "PRAEGENDE_JUGENDJAHRE_decade      67.0\n",
      "CAMEO_INTL_2015_tens               3.0\n",
      "CAMEO_INTL_2015_ones               3.0\n",
      "Name: 13, Length: 61, dtype: float64\n"
     ]
    }
   ],
   "source": [
    "print(df13[df13 != 0])"
   ]
  },
  {
   "cell_type": "code",
   "execution_count": 150,
   "metadata": {},
   "outputs": [
    {
     "name": "stdout",
     "output_type": "stream",
     "text": [
      "ALTERSKATEGORIE_GROB               3.0\n",
      "ANREDE_KZ                          1.0\n",
      "FINANZ_MINIMALIST                  3.0\n",
      "FINANZ_SPARER                      3.0\n",
      "FINANZ_VORSORGER                   4.0\n",
      "FINANZ_ANLEGER                     2.0\n",
      "FINANZ_UNAUFFAELLIGER              2.0\n",
      "FINANZ_HAUSBAUER                   3.0\n",
      "HEALTH_TYP                         3.0\n",
      "RETOURTYP_BK_S                     4.0\n",
      "SEMIO_SOZ                          5.0\n",
      "SEMIO_FAM                          5.0\n",
      "SEMIO_REL                          4.0\n",
      "SEMIO_MAT                          4.0\n",
      "SEMIO_VERT                         6.0\n",
      "SEMIO_LUST                         4.0\n",
      "SEMIO_ERL                          4.0\n",
      "SEMIO_KULT                         5.0\n",
      "SEMIO_RAT                          3.0\n",
      "SEMIO_KRIT                         5.0\n",
      "SEMIO_DOM                          4.0\n",
      "SEMIO_KAEM                         3.0\n",
      "SEMIO_PFLICHT                      4.0\n",
      "SEMIO_TRADV                        3.0\n",
      "VERS_TYP                           2.0\n",
      "ANZ_PERSONEN                       1.0\n",
      "HH_EINKOMMEN_SCORE                 5.0\n",
      "W_KEIT_KIND_HH                     5.0\n",
      "WOHNDAUER_2008                     8.0\n",
      "ANZ_HAUSHALTE_AKTIV               14.0\n",
      "                                 ...  \n",
      "MIN_GEBAEUDEJAHR                1992.0\n",
      "KBA05_ANTG2                        1.0\n",
      "KBA05_ANTG3                        1.0\n",
      "KBA05_ANTG4                        1.0\n",
      "KBA05_GBZ                          2.0\n",
      "BALLRAUM                           3.0\n",
      "EWDICHTE                           5.0\n",
      "INNENSTADT                         3.0\n",
      "GEBAEUDETYP_RASTER                 3.0\n",
      "KKK                                3.0\n",
      "MOBI_REGIO                         2.0\n",
      "ONLINE_AFFINITAET                  2.0\n",
      "REGIOTYP                           5.0\n",
      "KBA13_ANZAHL_PKW                 550.0\n",
      "PLZ8_ANTG1                         2.0\n",
      "PLZ8_ANTG2                         3.0\n",
      "PLZ8_ANTG3                         2.0\n",
      "PLZ8_ANTG4                         1.0\n",
      "PLZ8_HHZ                           4.0\n",
      "PLZ8_GBZ                           3.0\n",
      "ARBEIT                             4.0\n",
      "ORTSGR_KLS9                        7.0\n",
      "RELAT_AB                           4.0\n",
      "OST_WEST_KZ_W                      1.0\n",
      "NATIONALITAET_KZ_1.0               1.0\n",
      "PRAEGENDE_JUGENDJAHRE_decade      71.0\n",
      "PRAEGENDE_JUGENDJAHRE_move         1.0\n",
      "CAMEO_INTL_2015_tens               4.0\n",
      "CAMEO_INTL_2015_ones               2.0\n",
      "LP_LEBENSPHASE_GROB_2.0            1.0\n",
      "Name: 15, Length: 61, dtype: float64\n"
     ]
    }
   ],
   "source": [
    "# What kinds of people are part of a cluster that is underrepresented in the\n",
    "# customer data compared to the general population?\n",
    "#clusters 1, 4, 7, 16, 18, and 19 stand out in the demographic data\n",
    "#let's do the same thing for number 16\n",
    "df16 = df.iloc[15].round()\n",
    "print(df16[df16 != 0])"
   ]
  },
  {
   "cell_type": "markdown",
   "metadata": {},
   "source": [
    "### What groups are under/overrepresented in the customer data as compared to the demographic data?\n",
    "\n",
    "- Overrepresented in customer data:\n",
    "From the columns `'PRAEGENDE_JUGENDJAHRE_decade'`, `'CAMEO_INTL_2015_tens'`, `'FINANZ_MINIMALIST'`, `'FINANZ_SPARER.'`, and `'ANZ_TITEL'` we can see that this group of people are older, live in comfortable households, and are money-savers but have low financial-interest. So maybe they save money in a bank, but don't invest actively in high-return stocks. They also tend to live in families (or alone) with only a single person holding an academic title.\n",
    "\n",
    "Other things that we can discern: these people are more dominant-minded, live in old West Germany, were members of an environmental sustainability program as a youth, tend to keep their purchases (show low purchase return rates), and tend to live in the same place for a while.\n",
    "\n",
    "\n",
    "- Overrepresented in demographic data:\n",
    "This group of people are much older, wealthier, and live in less remote regions (farther away from urban centers) than did the people from cluster 13. They also move about more than did the people in cluster 13. *This could point to the fact that people who live farther away from urban centers where there is more access to shopping would get more out of mail order shopping.*\n",
    "\n",
    "I am basing this off of looking at the columns: `'PRAEGENDE_JUGENDJAHRE_decade'`, `'CAMEO_INTL_2015_tens'`, `'BALLRAUM'`, `'MOBI_REGIO'`, and `'FINANZ_HAUSBAUER'`.\n",
    "\n",
    "However, while the trend is that this group of people are older and wealthier, by looking at column `'LP_LEBENSPHASE_GROB_2.0'` that this group also includes lower-income elderly folks."
   ]
  },
  {
   "cell_type": "code",
   "execution_count": null,
   "metadata": {},
   "outputs": [],
   "source": []
  }
 ],
 "metadata": {
  "kernelspec": {
   "display_name": "Python 3",
   "language": "python",
   "name": "python3"
  },
  "language_info": {
   "codemirror_mode": {
    "name": "ipython",
    "version": 3
   },
   "file_extension": ".py",
   "mimetype": "text/x-python",
   "name": "python",
   "nbconvert_exporter": "python",
   "pygments_lexer": "ipython3",
   "version": "3.6.8"
  }
 },
 "nbformat": 4,
 "nbformat_minor": 2
}
